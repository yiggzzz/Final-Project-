{
 "cells": [
  {
   "cell_type": "code",
   "execution_count": 2,
   "metadata": {
    "colab": {
     "base_uri": "https://localhost:8080/",
     "height": 73
    },
    "id": "lC-l_N4WcYyB",
    "outputId": "9112e428-987d-4d61-cda9-bc03c9637689"
   },
   "outputs": [],
   "source": [
    "# Import our dependencies\n",
    "from sklearn.model_selection import train_test_split\n",
    "from sklearn.preprocessing import StandardScaler,OneHotEncoder\n",
    "import pandas as pd\n",
    "import tensorflow as tf\n",
    "from tensorflow.python.keras.layers import Input, Dense\n",
    "from tensorflow.python import keras\n",
    "\n",
    "# #  Import and read the charity_data.csv.\n",
    "# import pandas as pd \n",
    "# from google.colab import files\n",
    "# uploaded = files.upload()\n",
    "# import io\n",
    "# # df = pd.read_csv(io.BytesIO(uploaded['charity_data.csv']))\n",
    "# # Dataset is now stored in a Pandas Dataframe\n",
    "\n",
    "# We comment out the code above if we wish to use jupyter lab or jupyter notebook instead and use code below for jupyter lab\n",
    "application_df = pd.read_csv(\"archive/dataset_phishing.csv\")\n",
    "application_df.head()\n",
    "\n",
    "pd.set_option('display.max_rows', None)"
   ]
  },
  {
   "cell_type": "code",
   "execution_count": 3,
   "metadata": {},
   "outputs": [
    {
     "data": {
      "text/plain": [
       "(11430, 89)"
      ]
     },
     "execution_count": 3,
     "metadata": {},
     "output_type": "execute_result"
    }
   ],
   "source": [
    "application_df.shape"
   ]
  },
  {
   "cell_type": "code",
   "execution_count": 4,
   "metadata": {},
   "outputs": [
    {
     "data": {
      "text/plain": [
       "(11430, 89)"
      ]
     },
     "execution_count": 4,
     "metadata": {},
     "output_type": "execute_result"
    }
   ],
   "source": [
    "application_df = application_df.dropna()\n",
    "application_df.shape"
   ]
  },
  {
   "cell_type": "code",
   "execution_count": 5,
   "metadata": {
    "id": "QKiZqGxGcf8u"
   },
   "outputs": [],
   "source": [
    "# IN ETL CHALLENGE - csv to dataframe \n",
    "# load dataframe into the table"
   ]
  },
  {
   "cell_type": "code",
   "execution_count": 6,
   "metadata": {},
   "outputs": [
    {
     "data": {
      "text/plain": [
       "76"
      ]
     },
     "execution_count": 6,
     "metadata": {},
     "output_type": "execute_result"
    }
   ],
   "source": [
    "application_df['nb_tilde'].sum()"
   ]
  },
  {
   "cell_type": "code",
   "execution_count": 7,
   "metadata": {},
   "outputs": [
    {
     "data": {
      "text/plain": [
       "76"
      ]
     },
     "execution_count": 7,
     "metadata": {},
     "output_type": "execute_result"
    }
   ],
   "source": [
    "application_df[application_df['nb_tilde'] > 0].shape[0]\n"
   ]
  },
  {
   "cell_type": "code",
   "execution_count": 8,
   "metadata": {},
   "outputs": [],
   "source": [
    "# Do later once we have only numerical data\n",
    "# application_df[application_df.columns[application_df.sum() > 0]]"
   ]
  },
  {
   "cell_type": "code",
   "execution_count": 9,
   "metadata": {},
   "outputs": [],
   "source": [
    "# Dropping columns and changing the csv files\n",
    "numeric_df = application_df.drop(columns=['url', 'status'])"
   ]
  },
  {
   "cell_type": "code",
   "execution_count": 10,
   "metadata": {},
   "outputs": [
    {
     "data": {
      "text/html": [
       "<div>\n",
       "<style scoped>\n",
       "    .dataframe tbody tr th:only-of-type {\n",
       "        vertical-align: middle;\n",
       "    }\n",
       "\n",
       "    .dataframe tbody tr th {\n",
       "        vertical-align: top;\n",
       "    }\n",
       "\n",
       "    .dataframe thead th {\n",
       "        text-align: right;\n",
       "    }\n",
       "</style>\n",
       "<table border=\"1\" class=\"dataframe\">\n",
       "  <thead>\n",
       "    <tr style=\"text-align: right;\">\n",
       "      <th></th>\n",
       "      <th>length_url</th>\n",
       "      <th>length_hostname</th>\n",
       "      <th>ip</th>\n",
       "      <th>nb_dots</th>\n",
       "      <th>nb_hyphens</th>\n",
       "      <th>nb_at</th>\n",
       "      <th>nb_qm</th>\n",
       "      <th>nb_and</th>\n",
       "      <th>nb_or</th>\n",
       "      <th>nb_eq</th>\n",
       "      <th>...</th>\n",
       "      <th>empty_title</th>\n",
       "      <th>domain_in_title</th>\n",
       "      <th>domain_with_copyright</th>\n",
       "      <th>whois_registered_domain</th>\n",
       "      <th>domain_registration_length</th>\n",
       "      <th>domain_age</th>\n",
       "      <th>web_traffic</th>\n",
       "      <th>dns_record</th>\n",
       "      <th>google_index</th>\n",
       "      <th>page_rank</th>\n",
       "    </tr>\n",
       "  </thead>\n",
       "  <tbody>\n",
       "    <tr>\n",
       "      <th>0</th>\n",
       "      <td>37</td>\n",
       "      <td>19</td>\n",
       "      <td>0</td>\n",
       "      <td>3</td>\n",
       "      <td>0</td>\n",
       "      <td>0</td>\n",
       "      <td>0</td>\n",
       "      <td>0</td>\n",
       "      <td>0</td>\n",
       "      <td>0</td>\n",
       "      <td>...</td>\n",
       "      <td>0</td>\n",
       "      <td>0</td>\n",
       "      <td>1</td>\n",
       "      <td>0</td>\n",
       "      <td>45</td>\n",
       "      <td>-1</td>\n",
       "      <td>0</td>\n",
       "      <td>1</td>\n",
       "      <td>1</td>\n",
       "      <td>4</td>\n",
       "    </tr>\n",
       "    <tr>\n",
       "      <th>1</th>\n",
       "      <td>77</td>\n",
       "      <td>23</td>\n",
       "      <td>1</td>\n",
       "      <td>1</td>\n",
       "      <td>0</td>\n",
       "      <td>0</td>\n",
       "      <td>0</td>\n",
       "      <td>0</td>\n",
       "      <td>0</td>\n",
       "      <td>0</td>\n",
       "      <td>...</td>\n",
       "      <td>0</td>\n",
       "      <td>1</td>\n",
       "      <td>0</td>\n",
       "      <td>0</td>\n",
       "      <td>77</td>\n",
       "      <td>5767</td>\n",
       "      <td>0</td>\n",
       "      <td>0</td>\n",
       "      <td>1</td>\n",
       "      <td>2</td>\n",
       "    </tr>\n",
       "    <tr>\n",
       "      <th>2</th>\n",
       "      <td>126</td>\n",
       "      <td>50</td>\n",
       "      <td>1</td>\n",
       "      <td>4</td>\n",
       "      <td>1</td>\n",
       "      <td>0</td>\n",
       "      <td>1</td>\n",
       "      <td>2</td>\n",
       "      <td>0</td>\n",
       "      <td>3</td>\n",
       "      <td>...</td>\n",
       "      <td>0</td>\n",
       "      <td>1</td>\n",
       "      <td>0</td>\n",
       "      <td>0</td>\n",
       "      <td>14</td>\n",
       "      <td>4004</td>\n",
       "      <td>5828815</td>\n",
       "      <td>0</td>\n",
       "      <td>1</td>\n",
       "      <td>0</td>\n",
       "    </tr>\n",
       "    <tr>\n",
       "      <th>3</th>\n",
       "      <td>18</td>\n",
       "      <td>11</td>\n",
       "      <td>0</td>\n",
       "      <td>2</td>\n",
       "      <td>0</td>\n",
       "      <td>0</td>\n",
       "      <td>0</td>\n",
       "      <td>0</td>\n",
       "      <td>0</td>\n",
       "      <td>0</td>\n",
       "      <td>...</td>\n",
       "      <td>0</td>\n",
       "      <td>1</td>\n",
       "      <td>0</td>\n",
       "      <td>0</td>\n",
       "      <td>62</td>\n",
       "      <td>-1</td>\n",
       "      <td>107721</td>\n",
       "      <td>0</td>\n",
       "      <td>0</td>\n",
       "      <td>3</td>\n",
       "    </tr>\n",
       "    <tr>\n",
       "      <th>4</th>\n",
       "      <td>55</td>\n",
       "      <td>15</td>\n",
       "      <td>0</td>\n",
       "      <td>2</td>\n",
       "      <td>2</td>\n",
       "      <td>0</td>\n",
       "      <td>0</td>\n",
       "      <td>0</td>\n",
       "      <td>0</td>\n",
       "      <td>0</td>\n",
       "      <td>...</td>\n",
       "      <td>0</td>\n",
       "      <td>0</td>\n",
       "      <td>1</td>\n",
       "      <td>0</td>\n",
       "      <td>224</td>\n",
       "      <td>8175</td>\n",
       "      <td>8725</td>\n",
       "      <td>0</td>\n",
       "      <td>0</td>\n",
       "      <td>6</td>\n",
       "    </tr>\n",
       "  </tbody>\n",
       "</table>\n",
       "<p>5 rows × 87 columns</p>\n",
       "</div>"
      ],
      "text/plain": [
       "   length_url  length_hostname  ip  nb_dots  nb_hyphens  nb_at  nb_qm  nb_and  \\\n",
       "0          37               19   0        3           0      0      0       0   \n",
       "1          77               23   1        1           0      0      0       0   \n",
       "2         126               50   1        4           1      0      1       2   \n",
       "3          18               11   0        2           0      0      0       0   \n",
       "4          55               15   0        2           2      0      0       0   \n",
       "\n",
       "   nb_or  nb_eq  ...  empty_title  domain_in_title  domain_with_copyright  \\\n",
       "0      0      0  ...            0                0                      1   \n",
       "1      0      0  ...            0                1                      0   \n",
       "2      0      3  ...            0                1                      0   \n",
       "3      0      0  ...            0                1                      0   \n",
       "4      0      0  ...            0                0                      1   \n",
       "\n",
       "   whois_registered_domain  domain_registration_length  domain_age  \\\n",
       "0                        0                          45          -1   \n",
       "1                        0                          77        5767   \n",
       "2                        0                          14        4004   \n",
       "3                        0                          62          -1   \n",
       "4                        0                         224        8175   \n",
       "\n",
       "   web_traffic  dns_record  google_index  page_rank  \n",
       "0            0           1             1          4  \n",
       "1            0           0             1          2  \n",
       "2      5828815           0             1          0  \n",
       "3       107721           0             0          3  \n",
       "4         8725           0             0          6  \n",
       "\n",
       "[5 rows x 87 columns]"
      ]
     },
     "execution_count": 10,
     "metadata": {},
     "output_type": "execute_result"
    }
   ],
   "source": [
    "numeric_df.head()"
   ]
  },
  {
   "cell_type": "code",
   "execution_count": 11,
   "metadata": {},
   "outputs": [
    {
     "data": {
      "text/plain": [
       "length_url                      int64\n",
       "length_hostname                 int64\n",
       "ip                              int64\n",
       "nb_dots                         int64\n",
       "nb_hyphens                      int64\n",
       "nb_at                           int64\n",
       "nb_qm                           int64\n",
       "nb_and                          int64\n",
       "nb_or                           int64\n",
       "nb_eq                           int64\n",
       "nb_underscore                   int64\n",
       "nb_tilde                        int64\n",
       "nb_percent                      int64\n",
       "nb_slash                        int64\n",
       "nb_star                         int64\n",
       "nb_colon                        int64\n",
       "nb_comma                        int64\n",
       "nb_semicolumn                   int64\n",
       "nb_dollar                       int64\n",
       "nb_space                        int64\n",
       "nb_www                          int64\n",
       "nb_com                          int64\n",
       "nb_dslash                       int64\n",
       "http_in_path                    int64\n",
       "https_token                     int64\n",
       "ratio_digits_url              float64\n",
       "ratio_digits_host             float64\n",
       "punycode                        int64\n",
       "port                            int64\n",
       "tld_in_path                     int64\n",
       "tld_in_subdomain                int64\n",
       "abnormal_subdomain              int64\n",
       "nb_subdomains                   int64\n",
       "prefix_suffix                   int64\n",
       "random_domain                   int64\n",
       "shortening_service              int64\n",
       "path_extension                  int64\n",
       "nb_redirection                  int64\n",
       "nb_external_redirection         int64\n",
       "length_words_raw                int64\n",
       "char_repeat                     int64\n",
       "shortest_words_raw              int64\n",
       "shortest_word_host              int64\n",
       "shortest_word_path              int64\n",
       "longest_words_raw               int64\n",
       "longest_word_host               int64\n",
       "longest_word_path               int64\n",
       "avg_words_raw                 float64\n",
       "avg_word_host                 float64\n",
       "avg_word_path                 float64\n",
       "phish_hints                     int64\n",
       "domain_in_brand                 int64\n",
       "brand_in_subdomain              int64\n",
       "brand_in_path                   int64\n",
       "suspecious_tld                  int64\n",
       "statistical_report              int64\n",
       "nb_hyperlinks                   int64\n",
       "ratio_intHyperlinks           float64\n",
       "ratio_extHyperlinks           float64\n",
       "ratio_nullHyperlinks            int64\n",
       "nb_extCSS                       int64\n",
       "ratio_intRedirection            int64\n",
       "ratio_extRedirection          float64\n",
       "ratio_intErrors                 int64\n",
       "ratio_extErrors               float64\n",
       "login_form                      int64\n",
       "external_favicon                int64\n",
       "links_in_tags                 float64\n",
       "submit_email                    int64\n",
       "ratio_intMedia                float64\n",
       "ratio_extMedia                float64\n",
       "sfh                             int64\n",
       "iframe                          int64\n",
       "popup_window                    int64\n",
       "safe_anchor                   float64\n",
       "onmouseover                     int64\n",
       "right_clic                      int64\n",
       "empty_title                     int64\n",
       "domain_in_title                 int64\n",
       "domain_with_copyright           int64\n",
       "whois_registered_domain         int64\n",
       "domain_registration_length      int64\n",
       "domain_age                      int64\n",
       "web_traffic                     int64\n",
       "dns_record                      int64\n",
       "google_index                    int64\n",
       "page_rank                       int64\n",
       "dtype: object"
      ]
     },
     "execution_count": 11,
     "metadata": {},
     "output_type": "execute_result"
    }
   ],
   "source": [
    "numeric_df.dtypes"
   ]
  },
  {
   "cell_type": "code",
   "execution_count": 12,
   "metadata": {},
   "outputs": [],
   "source": [
    "# No zeros DF\n",
    "nozeros_df = numeric_df[numeric_df.columns[numeric_df.sum() > 0]]"
   ]
  },
  {
   "cell_type": "code",
   "execution_count": 13,
   "metadata": {},
   "outputs": [
    {
     "data": {
      "text/plain": [
       "(11430, 81)"
      ]
     },
     "execution_count": 13,
     "metadata": {},
     "output_type": "execute_result"
    }
   ],
   "source": [
    "nozeros_df.shape"
   ]
  },
  {
   "cell_type": "code",
   "execution_count": 14,
   "metadata": {},
   "outputs": [],
   "source": [
    "# Outputs label(s) for input data \n",
    "# Need to find out if it's phishing or not based on the URL"
   ]
  },
  {
   "cell_type": "code",
   "execution_count": 15,
   "metadata": {},
   "outputs": [],
   "source": [
    "# 0 - legitimate\n",
    "# 1 - phishing\n",
    "# 2 - suspicious"
   ]
  },
  {
   "cell_type": "code",
   "execution_count": 16,
   "metadata": {},
   "outputs": [],
   "source": [
    "# data.to_csv(\"phishing-urls.csv\",index=False,encoding='UTF-8')\n",
    "# data.to_csv(\"legitimate-urls.csv\",index=False,encoding='UTF-8')"
   ]
  },
  {
   "cell_type": "code",
   "execution_count": 17,
   "metadata": {},
   "outputs": [],
   "source": [
    "# numeric_df.to_csv(\"archive/dataset_phishing_numeric.csv\",index=False,encoding='UTF-8')"
   ]
  },
  {
   "cell_type": "code",
   "execution_count": 18,
   "metadata": {},
   "outputs": [
    {
     "name": "stdout",
     "output_type": "stream",
     "text": [
      "<class 'pandas.core.frame.DataFrame'>\n",
      "Int64Index: 11430 entries, 0 to 11429\n",
      "Data columns (total 87 columns):\n",
      " #   Column                      Non-Null Count  Dtype  \n",
      "---  ------                      --------------  -----  \n",
      " 0   length_url                  11430 non-null  int64  \n",
      " 1   length_hostname             11430 non-null  int64  \n",
      " 2   ip                          11430 non-null  int64  \n",
      " 3   nb_dots                     11430 non-null  int64  \n",
      " 4   nb_hyphens                  11430 non-null  int64  \n",
      " 5   nb_at                       11430 non-null  int64  \n",
      " 6   nb_qm                       11430 non-null  int64  \n",
      " 7   nb_and                      11430 non-null  int64  \n",
      " 8   nb_or                       11430 non-null  int64  \n",
      " 9   nb_eq                       11430 non-null  int64  \n",
      " 10  nb_underscore               11430 non-null  int64  \n",
      " 11  nb_tilde                    11430 non-null  int64  \n",
      " 12  nb_percent                  11430 non-null  int64  \n",
      " 13  nb_slash                    11430 non-null  int64  \n",
      " 14  nb_star                     11430 non-null  int64  \n",
      " 15  nb_colon                    11430 non-null  int64  \n",
      " 16  nb_comma                    11430 non-null  int64  \n",
      " 17  nb_semicolumn               11430 non-null  int64  \n",
      " 18  nb_dollar                   11430 non-null  int64  \n",
      " 19  nb_space                    11430 non-null  int64  \n",
      " 20  nb_www                      11430 non-null  int64  \n",
      " 21  nb_com                      11430 non-null  int64  \n",
      " 22  nb_dslash                   11430 non-null  int64  \n",
      " 23  http_in_path                11430 non-null  int64  \n",
      " 24  https_token                 11430 non-null  int64  \n",
      " 25  ratio_digits_url            11430 non-null  float64\n",
      " 26  ratio_digits_host           11430 non-null  float64\n",
      " 27  punycode                    11430 non-null  int64  \n",
      " 28  port                        11430 non-null  int64  \n",
      " 29  tld_in_path                 11430 non-null  int64  \n",
      " 30  tld_in_subdomain            11430 non-null  int64  \n",
      " 31  abnormal_subdomain          11430 non-null  int64  \n",
      " 32  nb_subdomains               11430 non-null  int64  \n",
      " 33  prefix_suffix               11430 non-null  int64  \n",
      " 34  random_domain               11430 non-null  int64  \n",
      " 35  shortening_service          11430 non-null  int64  \n",
      " 36  path_extension              11430 non-null  int64  \n",
      " 37  nb_redirection              11430 non-null  int64  \n",
      " 38  nb_external_redirection     11430 non-null  int64  \n",
      " 39  length_words_raw            11430 non-null  int64  \n",
      " 40  char_repeat                 11430 non-null  int64  \n",
      " 41  shortest_words_raw          11430 non-null  int64  \n",
      " 42  shortest_word_host          11430 non-null  int64  \n",
      " 43  shortest_word_path          11430 non-null  int64  \n",
      " 44  longest_words_raw           11430 non-null  int64  \n",
      " 45  longest_word_host           11430 non-null  int64  \n",
      " 46  longest_word_path           11430 non-null  int64  \n",
      " 47  avg_words_raw               11430 non-null  float64\n",
      " 48  avg_word_host               11430 non-null  float64\n",
      " 49  avg_word_path               11430 non-null  float64\n",
      " 50  phish_hints                 11430 non-null  int64  \n",
      " 51  domain_in_brand             11430 non-null  int64  \n",
      " 52  brand_in_subdomain          11430 non-null  int64  \n",
      " 53  brand_in_path               11430 non-null  int64  \n",
      " 54  suspecious_tld              11430 non-null  int64  \n",
      " 55  statistical_report          11430 non-null  int64  \n",
      " 56  nb_hyperlinks               11430 non-null  int64  \n",
      " 57  ratio_intHyperlinks         11430 non-null  float64\n",
      " 58  ratio_extHyperlinks         11430 non-null  float64\n",
      " 59  ratio_nullHyperlinks        11430 non-null  int64  \n",
      " 60  nb_extCSS                   11430 non-null  int64  \n",
      " 61  ratio_intRedirection        11430 non-null  int64  \n",
      " 62  ratio_extRedirection        11430 non-null  float64\n",
      " 63  ratio_intErrors             11430 non-null  int64  \n",
      " 64  ratio_extErrors             11430 non-null  float64\n",
      " 65  login_form                  11430 non-null  int64  \n",
      " 66  external_favicon            11430 non-null  int64  \n",
      " 67  links_in_tags               11430 non-null  float64\n",
      " 68  submit_email                11430 non-null  int64  \n",
      " 69  ratio_intMedia              11430 non-null  float64\n",
      " 70  ratio_extMedia              11430 non-null  float64\n",
      " 71  sfh                         11430 non-null  int64  \n",
      " 72  iframe                      11430 non-null  int64  \n",
      " 73  popup_window                11430 non-null  int64  \n",
      " 74  safe_anchor                 11430 non-null  float64\n",
      " 75  onmouseover                 11430 non-null  int64  \n",
      " 76  right_clic                  11430 non-null  int64  \n",
      " 77  empty_title                 11430 non-null  int64  \n",
      " 78  domain_in_title             11430 non-null  int64  \n",
      " 79  domain_with_copyright       11430 non-null  int64  \n",
      " 80  whois_registered_domain     11430 non-null  int64  \n",
      " 81  domain_registration_length  11430 non-null  int64  \n",
      " 82  domain_age                  11430 non-null  int64  \n",
      " 83  web_traffic                 11430 non-null  int64  \n",
      " 84  dns_record                  11430 non-null  int64  \n",
      " 85  google_index                11430 non-null  int64  \n",
      " 86  page_rank                   11430 non-null  int64  \n",
      "dtypes: float64(13), int64(74)\n",
      "memory usage: 7.7 MB\n"
     ]
    }
   ],
   "source": [
    "numeric_df.info()"
   ]
  },
  {
   "cell_type": "code",
   "execution_count": null,
   "metadata": {},
   "outputs": [],
   "source": []
  }
 ],
 "metadata": {
  "colab": {
   "collapsed_sections": [],
   "provenance": []
  },
  "kernelspec": {
   "display_name": "mlenv",
   "language": "python",
   "name": "mlenv"
  },
  "language_info": {
   "codemirror_mode": {
    "name": "ipython",
    "version": 3
   },
   "file_extension": ".py",
   "mimetype": "text/x-python",
   "name": "python",
   "nbconvert_exporter": "python",
   "pygments_lexer": "ipython3",
   "version": "3.7.13"
  }
 },
 "nbformat": 4,
 "nbformat_minor": 4
}
