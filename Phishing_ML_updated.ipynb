{
 "cells": [
  {
   "cell_type": "code",
   "execution_count": 1,
   "id": "790871dc",
   "metadata": {},
   "outputs": [],
   "source": [
    "import pandas as pd\n",
    "import numpy as np\n",
    "from datetime import datetime\n",
    "import matplotlib.pyplot as plt\n",
    "import seaborn as sns"
   ]
  },
  {
   "cell_type": "code",
   "execution_count": null,
   "id": "769dca85",
   "metadata": {},
   "outputs": [],
   "source": [
    "# read csv file\n",
    "df=pd.read_csv('archive/dataset_phishing_numeric.csv')\n",
    "\n",
    "# show all columns \n",
    "pd.set_option('display.max_columns', None)"
   ]
  },
  {
   "cell_type": "markdown",
   "id": "5c25d337",
   "metadata": {},
   "source": [
    "### Exploring the dataset"
   ]
  },
  {
   "cell_type": "code",
   "execution_count": null,
   "id": "74e53679",
   "metadata": {},
   "outputs": [],
   "source": [
    "# Print the number of rows and columns\n",
    "print(\"Number of rows: \",df.shape[0]) \n",
    "print(\"Number of columns: \", df.shape[1])"
   ]
  },
  {
   "cell_type": "code",
   "execution_count": null,
   "id": "669b6791",
   "metadata": {},
   "outputs": [],
   "source": [
    "# printing the first 5 rows.\n",
    "df.head()"
   ]
  },
  {
   "cell_type": "code",
   "execution_count": null,
   "id": "ea6fa4f9",
   "metadata": {},
   "outputs": [],
   "source": [
    "#getting info about columns\n",
    "df.info()"
   ]
  },
  {
   "cell_type": "code",
   "execution_count": null,
   "id": "f13e85e7",
   "metadata": {},
   "outputs": [],
   "source": [
    "# Looking for null values\n",
    "df.isna().sum().sort_values(ascending=False)"
   ]
  },
  {
   "cell_type": "markdown",
   "id": "f3ba3b81",
   "metadata": {},
   "source": [
    "### Observation: The dataset has no missing values. All columns are numeric and either integers or float. Result: No cleaning of missing data needed and data types look correct."
   ]
  },
  {
   "cell_type": "markdown",
   "id": "1cbb4327",
   "metadata": {},
   "source": [
    "### Looking for Duplicated Values"
   ]
  },
  {
   "cell_type": "code",
   "execution_count": null,
   "id": "af9c07f5",
   "metadata": {},
   "outputs": [],
   "source": [
    "# Identifying duplicate columns\n",
    "\n",
    "duplicates = df.duplicated().sort_values(ascending=False)\n",
    "print(duplicates)"
   ]
  },
  {
   "cell_type": "code",
   "execution_count": null,
   "id": "713182eb",
   "metadata": {},
   "outputs": [],
   "source": [
    "#Get duplicate rows.\n",
    "\n",
    "duplicates = df.duplicated()\n",
    "df[duplicates]\n",
    "print(\"Number of duplicated rows: \", df[duplicates].shape[0])"
   ]
  },
  {
   "cell_type": "code",
   "execution_count": null,
   "id": "35e8d1ff",
   "metadata": {},
   "outputs": [],
   "source": [
    "# printing duplicates values \n",
    "\n",
    "df[duplicates].to_excel(r'archive/duplicates.xlsx')"
   ]
  },
  {
   "cell_type": "code",
   "execution_count": null,
   "id": "58a0ac9e",
   "metadata": {},
   "outputs": [],
   "source": [
    "#deleting all duplicated values\n",
    "\n",
    "cleaned_data= df.drop_duplicates()"
   ]
  },
  {
   "cell_type": "code",
   "execution_count": null,
   "id": "e1610081",
   "metadata": {},
   "outputs": [],
   "source": [
    "# checking again if any duplicate values still exist.\n",
    "check = cleaned_data.duplicated()\n",
    "cleaned_data[check]"
   ]
  },
  {
   "cell_type": "markdown",
   "id": "412b9eb6",
   "metadata": {},
   "source": [
    "### Observation: The dataset contained 174 duplicated rows. All duplicates were removed from the source dataset. The new dataframe without duplicate values is called \"cleaned_data\"."
   ]
  },
  {
   "cell_type": "markdown",
   "id": "f7d1746a",
   "metadata": {},
   "source": [
    "### Exploring summary statistics:"
   ]
  },
  {
   "cell_type": "code",
   "execution_count": null,
   "id": "aed5a602",
   "metadata": {},
   "outputs": [],
   "source": [
    "#Show statistics \n",
    "\n",
    "cleaned_data.describe()"
   ]
  },
  {
   "cell_type": "markdown",
   "id": "51abb8d8",
   "metadata": {},
   "source": [
    "### Observation: \n",
    "length_url, lenght_hostname, nb_dots, nb_hyphens, nb_and, nb_eq,nb_underscore,nb_percent, nb_slash, nb_semicolumn, nb_space, length_words_raw, char_repeat, shortest_words_raw, shortest_word_host, shortest_word_path,\tlongest_words_raw, longest_word_host, longest_word_path, avg_words_raw,\tavg_word_host, avg_word_pat, phish_hints, np_hyperlinks, nb_extCSS, domain_registration_length, page_rank,have high max_values relative to the percentiles. \n",
    "domain_registration_length and domain_age have negative values.\n"
   ]
  },
  {
   "cell_type": "markdown",
   "id": "799e0e67",
   "metadata": {},
   "source": [
    "### Exploratory Data Analysis"
   ]
  },
  {
   "cell_type": "markdown",
   "id": "8faff9b7",
   "metadata": {},
   "source": [
    "#### Analyzing length_url"
   ]
  },
  {
   "cell_type": "code",
   "execution_count": null,
   "id": "732c95ce",
   "metadata": {},
   "outputs": [],
   "source": [
    "#Visualizing outliers with a Boxplot\n",
    "\n",
    "URL_lenght = cleaned_data['length_url']\n",
    "sns.boxplot(data=URL_lenght)\n",
    "plt.show()"
   ]
  },
  {
   "cell_type": "code",
   "execution_count": null,
   "id": "d5c03cd4",
   "metadata": {},
   "outputs": [],
   "source": [
    "#Visualizing distribution with a Violinplot\n",
    "\n",
    "URL_lenght = cleaned_data['length_url']\n",
    "sns.violinplot(data=URL_lenght)\n",
    "plt.show()"
   ]
  },
  {
   "cell_type": "code",
   "execution_count": null,
   "id": "5aca713d",
   "metadata": {},
   "outputs": [],
   "source": [
    "#Visualizing the distribution of length_url\n",
    "\n",
    "\n",
    "sns.histplot(data=cleaned_data['length_url'],bins=20)\n",
    "plt.title('Distribution of length_url')\n",
    "plt.show()"
   ]
  },
  {
   "cell_type": "code",
   "execution_count": null,
   "id": "e7b6b42b",
   "metadata": {},
   "outputs": [],
   "source": [
    "#Finding outliers\n",
    "\n",
    "from scipy.stats import iqr\n",
    "iqr = iqr(cleaned_data['length_url'])\n",
    "lower = np.quantile(cleaned_data['length_url'], 0.25) - 1.5 * iqr\n",
    "upper = np.quantile(cleaned_data['length_url'], 0.75) + 1.5 * iqr\n",
    "\n",
    "\n",
    "print(lower)\n",
    "print(upper)\n",
    "\n",
    "#showing outliers (3 in total)\n",
    "outliers= cleaned_data[((cleaned_data['length_url'] < lower)) | (cleaned_data['length_url'] > upper)]\n",
    "\n",
    "outliers"
   ]
  },
  {
   "cell_type": "code",
   "execution_count": null,
   "id": "03c7ea21",
   "metadata": {},
   "outputs": [],
   "source": [
    "print('There are ', outliers.shape[0], 'outliers for length_url in the dataset')"
   ]
  },
  {
   "cell_type": "markdown",
   "id": "c00cf9fa",
   "metadata": {},
   "source": [
    "#### Oberservation: Some URLs have a lenght over 1000.  The histogram shows that the vast majority of values are in the low end of length. Based on a statistical formula, all values above a length of 128 are considered outliers. Further discussion needed to keep them or not."
   ]
  },
  {
   "cell_type": "markdown",
   "id": "b8f7f5c9",
   "metadata": {},
   "source": [
    "#### Analyzing length hostname:"
   ]
  },
  {
   "cell_type": "code",
   "execution_count": null,
   "id": "e8da6d70",
   "metadata": {},
   "outputs": [],
   "source": [
    "#Visualizing outliers with a Boxplot\n",
    "\n",
    "hostname_lenght = cleaned_data['length_hostname']\n",
    "sns.boxplot(data= hostname_lenght)\n",
    "plt.show()"
   ]
  },
  {
   "cell_type": "code",
   "execution_count": null,
   "id": "497a6e51",
   "metadata": {},
   "outputs": [],
   "source": [
    "#Visualizing the distribution of length_hostname\n",
    "\n",
    "\n",
    "sns.histplot(data=cleaned_data['length_hostname'],bins=20)\n",
    "plt.title('Distribution of length_hostname')\n",
    "plt.show()"
   ]
  },
  {
   "cell_type": "markdown",
   "id": "112f4e52",
   "metadata": {},
   "source": [
    "#### Analyzing  nb_dots:"
   ]
  },
  {
   "cell_type": "code",
   "execution_count": null,
   "id": "10bc1b68",
   "metadata": {},
   "outputs": [],
   "source": [
    "#Visualizing outliers with a Boxplot\n",
    "\n",
    "hostname_lenght = cleaned_data['nb_dots']\n",
    "sns.boxplot(data= hostname_lenght)\n",
    "plt.show()"
   ]
  },
  {
   "cell_type": "code",
   "execution_count": null,
   "id": "05ab20d0",
   "metadata": {},
   "outputs": [],
   "source": [
    "#Visualizing the distribution of nb_dots\n",
    "\n",
    "sns.histplot(data=cleaned_data['nb_dots'],bins=20)\n",
    "plt.title('Distribution of nb_dots')\n",
    "plt.show()"
   ]
  },
  {
   "cell_type": "markdown",
   "id": "a5a627ab",
   "metadata": {},
   "source": [
    "#### Analyzing longest_words_raw"
   ]
  },
  {
   "cell_type": "code",
   "execution_count": null,
   "id": "a55b82fb",
   "metadata": {},
   "outputs": [],
   "source": [
    "#Visualizing outliers with a Boxplot\n",
    "\n",
    "hostname_lenght = cleaned_data['longest_words_raw']\n",
    "sns.boxplot(data= hostname_lenght)\n",
    "plt.show()"
   ]
  },
  {
   "cell_type": "code",
   "execution_count": null,
   "id": "6c5ce348",
   "metadata": {},
   "outputs": [],
   "source": [
    "#Visualizing the distribution of  longest_words_raw\n",
    "\n",
    "sns.histplot(data=cleaned_data['longest_words_raw'],bins=20)\n",
    "plt.title('Distribution of longest_words_raw')\n",
    "plt.show()"
   ]
  },
  {
   "cell_type": "markdown",
   "id": "f7b20fac",
   "metadata": {},
   "source": [
    "#### Observation: As for length_url there are also some rows with outliers for longest_words_raw, nb_dots and length_hostname. Further clarification is needed."
   ]
  },
  {
   "cell_type": "code",
   "execution_count": null,
   "id": "92bcfa74",
   "metadata": {},
   "outputs": [],
   "source": [
    "# Exporting example of outliers for url_length to Excel\n",
    "# outliers.to_excel(r'outliers_url_length.xlsx')"
   ]
  },
  {
   "cell_type": "code",
   "execution_count": null,
   "id": "02a72d06",
   "metadata": {},
   "outputs": [],
   "source": [
    "# Exporting cleaned data to Excel\n",
    "\n",
    "# cleaned_data.to_csv(r'phishing_dataset_cleaned.csv')"
   ]
  },
  {
   "cell_type": "code",
   "execution_count": null,
   "id": "0ed76b2b-c39b-417c-bb38-ff38a65b5bdb",
   "metadata": {},
   "outputs": [],
   "source": [
    "application_df = pd.read_csv(\"archive/dataset_phishing.csv\")\n",
    "application_df.head()"
   ]
  },
  {
   "cell_type": "code",
   "execution_count": null,
   "id": "15a3473a-9678-4e9f-82ce-a87e002f5638",
   "metadata": {},
   "outputs": [],
   "source": [
    "# Re-run above code to run this cell\n",
    "# Encoding 'status' as label 1 & 0, naming the field as target\n",
    "application_df['status'] = application_df['status'].str.contains('legitimate').astype(int)\n",
    "application_df"
   ]
  },
  {
   "cell_type": "markdown",
   "id": "1b1269fe-58a5-48f7-986e-139f1fee22ea",
   "metadata": {},
   "source": [
    "### The code above makes all values legitimate = 1, and phishing = 0"
   ]
  },
  {
   "cell_type": "code",
   "execution_count": null,
   "id": "706c8a4f-b0fc-4558-8d8d-0a2d7ce8598a",
   "metadata": {},
   "outputs": [],
   "source": [
    "application_df.to_csv(\"archive/dataset_phishing_functionapplied.csv\",index=False,encoding='UTF-8')"
   ]
  },
  {
   "cell_type": "markdown",
   "id": "c89281e8-9e74-4de1-b398-265a1fae5fd4",
   "metadata": {},
   "source": [
    "### The following function below will separate only the status & URL on one csv file"
   ]
  },
  {
   "cell_type": "code",
   "execution_count": null,
   "id": "1a891e77-5855-48bf-a554-18fc435458ab",
   "metadata": {},
   "outputs": [],
   "source": [
    "function_df = application_df[['url','status']]"
   ]
  },
  {
   "cell_type": "code",
   "execution_count": null,
   "id": "228ee950-89b7-461d-8877-564f749414a5",
   "metadata": {},
   "outputs": [],
   "source": [
    "function_df.head()"
   ]
  },
  {
   "cell_type": "code",
   "execution_count": null,
   "id": "a5cd67f9-302c-4e00-b614-6d8650c0cba7",
   "metadata": {},
   "outputs": [],
   "source": [
    "function_df.to_csv(\"archive/function.csv\",index=False,encoding='UTF-8')"
   ]
  },
  {
   "cell_type": "markdown",
   "id": "d5a73dc3-65ec-4b12-b18b-b374c1118449",
   "metadata": {
    "tags": []
   },
   "source": [
    "### Function comes next"
   ]
  },
  {
   "cell_type": "code",
   "execution_count": null,
   "id": "4d7820df-56ed-44c4-aece-f5b7c8a50930",
   "metadata": {},
   "outputs": [],
   "source": [
    "application_df.head()"
   ]
  },
  {
   "cell_type": "code",
   "execution_count": null,
   "id": "ad398731-d59c-4983-acb2-b782da33ac71",
   "metadata": {},
   "outputs": [],
   "source": [
    "legitimate_list = list(application_df[application_df.status == 1].url) "
   ]
  },
  {
   "cell_type": "code",
   "execution_count": null,
   "id": "86966595-0c5f-404a-a975-a9cbcd8d5ea0",
   "metadata": {},
   "outputs": [],
   "source": [
    "phishing_list = list(application_df[application_df.status == 0].url) "
   ]
  },
  {
   "cell_type": "code",
   "execution_count": null,
   "id": "1cf99d4e-4fd1-44de-b9e4-ea2a8fa3a070",
   "metadata": {},
   "outputs": [],
   "source": [
    "pd.DataFrame({'Phishing':phishing_list, 'Legitimate':legitimate_list})"
   ]
  },
  {
   "cell_type": "code",
   "execution_count": null,
   "id": "d28f27c4-f6ed-48b9-a382-a66beee16504",
   "metadata": {},
   "outputs": [],
   "source": [
    "# Function that makes all values that = 1 (legitimate) into one column and values = 0 (phishing) into another column\n",
    "# Save first excel files as Phishing_URLS.csv\n",
    "# Save second excel file as Legitimate_URLS.csv\n",
    "application_df"
   ]
  },
  {
   "cell_type": "markdown",
   "id": "dfc50aa9-4b75-43d9-8573-3171aecb0fb3",
   "metadata": {},
   "source": [
    "# Random Forest Classifier"
   ]
  },
  {
   "cell_type": "markdown",
   "id": "6280d172-a9bf-4e21-9f68-40a2e16ea609",
   "metadata": {},
   "source": [
    "Random Forest classifier is a type of ensemble learning model combines multiple smaller models into a more robust and accurate model. Random Forest Models use a number of weak learner algorithms (such as decision trees) and combines their output to make a final classification decision. They are very similar to their neural networks counterparts. Random forest models are the most commonly used model because of their robustness and scalability. Both output and feature selection of random forest models are easy to interpret and they can easily handle outliers and nonlinear data.\n",
    "\n",
    "Random forest algorithms are very beneficial because they:\n",
    "- are robust against overfitting as all of those weak learners are trained on different pieces of the data\n",
    "- can be used to rank the importance of input values in a natural way.\n",
    "- can handle thousands of input variables without variable deletion.\n",
    "- are robust to outliers and nonlinear data. \n",
    "- run efficiently using large datasets."
   ]
  },
  {
   "cell_type": "code",
   "execution_count": 125,
   "id": "fb57a117-116d-4c2a-8f4a-92b89430bf1e",
   "metadata": {},
   "outputs": [
    {
     "data": {
      "text/html": [
       "<div>\n",
       "<style scoped>\n",
       "    .dataframe tbody tr th:only-of-type {\n",
       "        vertical-align: middle;\n",
       "    }\n",
       "\n",
       "    .dataframe tbody tr th {\n",
       "        vertical-align: top;\n",
       "    }\n",
       "\n",
       "    .dataframe thead th {\n",
       "        text-align: right;\n",
       "    }\n",
       "</style>\n",
       "<table border=\"1\" class=\"dataframe\">\n",
       "  <thead>\n",
       "    <tr style=\"text-align: right;\">\n",
       "      <th></th>\n",
       "      <th>url</th>\n",
       "      <th>length_url</th>\n",
       "      <th>length_hostname</th>\n",
       "      <th>ip</th>\n",
       "      <th>nb_dots</th>\n",
       "      <th>nb_hyphens</th>\n",
       "      <th>nb_at</th>\n",
       "      <th>nb_qm</th>\n",
       "      <th>nb_and</th>\n",
       "      <th>nb_or</th>\n",
       "      <th>...</th>\n",
       "      <th>domain_in_title</th>\n",
       "      <th>domain_with_copyright</th>\n",
       "      <th>whois_registered_domain</th>\n",
       "      <th>domain_registration_length</th>\n",
       "      <th>domain_age</th>\n",
       "      <th>web_traffic</th>\n",
       "      <th>dns_record</th>\n",
       "      <th>google_index</th>\n",
       "      <th>page_rank</th>\n",
       "      <th>status</th>\n",
       "    </tr>\n",
       "  </thead>\n",
       "  <tbody>\n",
       "    <tr>\n",
       "      <th>0</th>\n",
       "      <td>http://www.crestonwood.com/router.php</td>\n",
       "      <td>37</td>\n",
       "      <td>19</td>\n",
       "      <td>0</td>\n",
       "      <td>3</td>\n",
       "      <td>0</td>\n",
       "      <td>0</td>\n",
       "      <td>0</td>\n",
       "      <td>0</td>\n",
       "      <td>0</td>\n",
       "      <td>...</td>\n",
       "      <td>0</td>\n",
       "      <td>1</td>\n",
       "      <td>0</td>\n",
       "      <td>45</td>\n",
       "      <td>-1</td>\n",
       "      <td>0</td>\n",
       "      <td>1</td>\n",
       "      <td>1</td>\n",
       "      <td>4</td>\n",
       "      <td>1</td>\n",
       "    </tr>\n",
       "    <tr>\n",
       "      <th>1</th>\n",
       "      <td>http://shadetreetechnology.com/V4/validation/a...</td>\n",
       "      <td>77</td>\n",
       "      <td>23</td>\n",
       "      <td>1</td>\n",
       "      <td>1</td>\n",
       "      <td>0</td>\n",
       "      <td>0</td>\n",
       "      <td>0</td>\n",
       "      <td>0</td>\n",
       "      <td>0</td>\n",
       "      <td>...</td>\n",
       "      <td>1</td>\n",
       "      <td>0</td>\n",
       "      <td>0</td>\n",
       "      <td>77</td>\n",
       "      <td>5767</td>\n",
       "      <td>0</td>\n",
       "      <td>0</td>\n",
       "      <td>1</td>\n",
       "      <td>2</td>\n",
       "      <td>0</td>\n",
       "    </tr>\n",
       "    <tr>\n",
       "      <th>2</th>\n",
       "      <td>https://support-appleld.com.secureupdate.duila...</td>\n",
       "      <td>126</td>\n",
       "      <td>50</td>\n",
       "      <td>1</td>\n",
       "      <td>4</td>\n",
       "      <td>1</td>\n",
       "      <td>0</td>\n",
       "      <td>1</td>\n",
       "      <td>2</td>\n",
       "      <td>0</td>\n",
       "      <td>...</td>\n",
       "      <td>1</td>\n",
       "      <td>0</td>\n",
       "      <td>0</td>\n",
       "      <td>14</td>\n",
       "      <td>4004</td>\n",
       "      <td>5828815</td>\n",
       "      <td>0</td>\n",
       "      <td>1</td>\n",
       "      <td>0</td>\n",
       "      <td>0</td>\n",
       "    </tr>\n",
       "    <tr>\n",
       "      <th>3</th>\n",
       "      <td>http://rgipt.ac.in</td>\n",
       "      <td>18</td>\n",
       "      <td>11</td>\n",
       "      <td>0</td>\n",
       "      <td>2</td>\n",
       "      <td>0</td>\n",
       "      <td>0</td>\n",
       "      <td>0</td>\n",
       "      <td>0</td>\n",
       "      <td>0</td>\n",
       "      <td>...</td>\n",
       "      <td>1</td>\n",
       "      <td>0</td>\n",
       "      <td>0</td>\n",
       "      <td>62</td>\n",
       "      <td>-1</td>\n",
       "      <td>107721</td>\n",
       "      <td>0</td>\n",
       "      <td>0</td>\n",
       "      <td>3</td>\n",
       "      <td>1</td>\n",
       "    </tr>\n",
       "    <tr>\n",
       "      <th>4</th>\n",
       "      <td>http://www.iracing.com/tracks/gateway-motorspo...</td>\n",
       "      <td>55</td>\n",
       "      <td>15</td>\n",
       "      <td>0</td>\n",
       "      <td>2</td>\n",
       "      <td>2</td>\n",
       "      <td>0</td>\n",
       "      <td>0</td>\n",
       "      <td>0</td>\n",
       "      <td>0</td>\n",
       "      <td>...</td>\n",
       "      <td>0</td>\n",
       "      <td>1</td>\n",
       "      <td>0</td>\n",
       "      <td>224</td>\n",
       "      <td>8175</td>\n",
       "      <td>8725</td>\n",
       "      <td>0</td>\n",
       "      <td>0</td>\n",
       "      <td>6</td>\n",
       "      <td>1</td>\n",
       "    </tr>\n",
       "  </tbody>\n",
       "</table>\n",
       "<p>5 rows × 89 columns</p>\n",
       "</div>"
      ],
      "text/plain": [
       "                                                 url  length_url  \\\n",
       "0              http://www.crestonwood.com/router.php          37   \n",
       "1  http://shadetreetechnology.com/V4/validation/a...          77   \n",
       "2  https://support-appleld.com.secureupdate.duila...         126   \n",
       "3                                 http://rgipt.ac.in          18   \n",
       "4  http://www.iracing.com/tracks/gateway-motorspo...          55   \n",
       "\n",
       "   length_hostname  ip  nb_dots  nb_hyphens  nb_at  nb_qm  nb_and  nb_or  ...  \\\n",
       "0               19   0        3           0      0      0       0      0  ...   \n",
       "1               23   1        1           0      0      0       0      0  ...   \n",
       "2               50   1        4           1      0      1       2      0  ...   \n",
       "3               11   0        2           0      0      0       0      0  ...   \n",
       "4               15   0        2           2      0      0       0      0  ...   \n",
       "\n",
       "   domain_in_title  domain_with_copyright  whois_registered_domain  \\\n",
       "0                0                      1                        0   \n",
       "1                1                      0                        0   \n",
       "2                1                      0                        0   \n",
       "3                1                      0                        0   \n",
       "4                0                      1                        0   \n",
       "\n",
       "   domain_registration_length  domain_age  web_traffic  dns_record  \\\n",
       "0                          45          -1            0           1   \n",
       "1                          77        5767            0           0   \n",
       "2                          14        4004      5828815           0   \n",
       "3                          62          -1       107721           0   \n",
       "4                         224        8175         8725           0   \n",
       "\n",
       "   google_index  page_rank  status  \n",
       "0             1          4       1  \n",
       "1             1          2       0  \n",
       "2             1          0       0  \n",
       "3             0          3       1  \n",
       "4             0          6       1  \n",
       "\n",
       "[5 rows x 89 columns]"
      ]
     },
     "execution_count": 125,
     "metadata": {},
     "output_type": "execute_result"
    }
   ],
   "source": [
    "# Import our dependencies\n",
    "from sklearn.model_selection import train_test_split\n",
    "from sklearn.preprocessing import StandardScaler\n",
    "from sklearn.ensemble import RandomForestClassifier\n",
    "from sklearn.metrics import accuracy_score\n",
    "from sklearn.preprocessing import OneHotEncoder\n",
    "from sklearn.metrics import ConfusionMatrixDisplay, confusion_matrix, classification_report\n",
    "import pandas as pd\n",
    "import tensorflow as tf\n",
    "\n",
    "# Import our input dataset\n",
    "original_df = pd.read_csv('archive/dataset_phishing_functionapplied.csv')\n",
    "original_df.head()"
   ]
  },
  {
   "cell_type": "code",
   "execution_count": 38,
   "id": "072ebcc6-418d-4d38-96cc-0e39118c9417",
   "metadata": {},
   "outputs": [
    {
     "data": {
      "text/plain": [
       "Index(['url', 'length_url', 'length_hostname', 'ip', 'nb_dots', 'nb_hyphens',\n",
       "       'nb_at', 'nb_qm', 'nb_and', 'nb_or', 'nb_eq', 'nb_underscore',\n",
       "       'nb_tilde', 'nb_percent', 'nb_slash', 'nb_star', 'nb_colon', 'nb_comma',\n",
       "       'nb_semicolumn', 'nb_dollar', 'nb_space', 'nb_www', 'nb_com',\n",
       "       'nb_dslash', 'http_in_path', 'https_token', 'ratio_digits_url',\n",
       "       'ratio_digits_host', 'punycode', 'port', 'tld_in_path',\n",
       "       'tld_in_subdomain', 'abnormal_subdomain', 'nb_subdomains',\n",
       "       'prefix_suffix', 'random_domain', 'shortening_service',\n",
       "       'path_extension', 'nb_redirection', 'nb_external_redirection',\n",
       "       'length_words_raw', 'char_repeat', 'shortest_words_raw',\n",
       "       'shortest_word_host', 'shortest_word_path', 'longest_words_raw',\n",
       "       'longest_word_host', 'longest_word_path', 'avg_words_raw',\n",
       "       'avg_word_host', 'avg_word_path', 'phish_hints', 'domain_in_brand',\n",
       "       'brand_in_subdomain', 'brand_in_path', 'suspecious_tld',\n",
       "       'statistical_report', 'nb_hyperlinks', 'ratio_intHyperlinks',\n",
       "       'ratio_extHyperlinks', 'ratio_nullHyperlinks', 'nb_extCSS',\n",
       "       'ratio_intRedirection', 'ratio_extRedirection', 'ratio_intErrors',\n",
       "       'ratio_extErrors', 'login_form', 'external_favicon', 'links_in_tags',\n",
       "       'submit_email', 'ratio_intMedia', 'ratio_extMedia', 'sfh', 'iframe',\n",
       "       'popup_window', 'safe_anchor', 'onmouseover', 'right_clic',\n",
       "       'empty_title', 'domain_in_title', 'domain_with_copyright',\n",
       "       'whois_registered_domain', 'domain_registration_length', 'domain_age',\n",
       "       'web_traffic', 'dns_record', 'google_index', 'page_rank', 'status'],\n",
       "      dtype='object')"
      ]
     },
     "execution_count": 38,
     "metadata": {},
     "output_type": "execute_result"
    }
   ],
   "source": [
    "original_df.columns"
   ]
  },
  {
   "cell_type": "code",
   "execution_count": 39,
   "id": "61668743-7a51-42a5-a14c-467599235b5e",
   "metadata": {},
   "outputs": [],
   "source": [
    "# drop url column\n",
    "original_df = original_df.drop(columns = ['url'])"
   ]
  },
  {
   "cell_type": "code",
   "execution_count": 40,
   "id": "81fe1ca6-c19b-40fc-bae8-b7df1f98ba89",
   "metadata": {},
   "outputs": [
    {
     "data": {
      "text/plain": [
       "[dtype('int64'),\n",
       " dtype('int64'),\n",
       " dtype('int64'),\n",
       " dtype('int64'),\n",
       " dtype('int64'),\n",
       " dtype('int64'),\n",
       " dtype('int64'),\n",
       " dtype('int64'),\n",
       " dtype('int64'),\n",
       " dtype('int64'),\n",
       " dtype('int64'),\n",
       " dtype('int64'),\n",
       " dtype('int64'),\n",
       " dtype('int64'),\n",
       " dtype('int64'),\n",
       " dtype('int64'),\n",
       " dtype('int64'),\n",
       " dtype('int64'),\n",
       " dtype('int64'),\n",
       " dtype('int64'),\n",
       " dtype('int64'),\n",
       " dtype('int64'),\n",
       " dtype('int64'),\n",
       " dtype('int64'),\n",
       " dtype('int64'),\n",
       " dtype('float64'),\n",
       " dtype('float64'),\n",
       " dtype('int64'),\n",
       " dtype('int64'),\n",
       " dtype('int64'),\n",
       " dtype('int64'),\n",
       " dtype('int64'),\n",
       " dtype('int64'),\n",
       " dtype('int64'),\n",
       " dtype('int64'),\n",
       " dtype('int64'),\n",
       " dtype('int64'),\n",
       " dtype('int64'),\n",
       " dtype('int64'),\n",
       " dtype('int64'),\n",
       " dtype('int64'),\n",
       " dtype('int64'),\n",
       " dtype('int64'),\n",
       " dtype('int64'),\n",
       " dtype('int64'),\n",
       " dtype('int64'),\n",
       " dtype('int64'),\n",
       " dtype('float64'),\n",
       " dtype('float64'),\n",
       " dtype('float64'),\n",
       " dtype('int64'),\n",
       " dtype('int64'),\n",
       " dtype('int64'),\n",
       " dtype('int64'),\n",
       " dtype('int64'),\n",
       " dtype('int64'),\n",
       " dtype('int64'),\n",
       " dtype('float64'),\n",
       " dtype('float64'),\n",
       " dtype('int64'),\n",
       " dtype('int64'),\n",
       " dtype('int64'),\n",
       " dtype('float64'),\n",
       " dtype('int64'),\n",
       " dtype('float64'),\n",
       " dtype('int64'),\n",
       " dtype('int64'),\n",
       " dtype('float64'),\n",
       " dtype('int64'),\n",
       " dtype('float64'),\n",
       " dtype('float64'),\n",
       " dtype('int64'),\n",
       " dtype('int64'),\n",
       " dtype('int64'),\n",
       " dtype('float64'),\n",
       " dtype('int64'),\n",
       " dtype('int64'),\n",
       " dtype('int64'),\n",
       " dtype('int64'),\n",
       " dtype('int64'),\n",
       " dtype('int64'),\n",
       " dtype('int64'),\n",
       " dtype('int64'),\n",
       " dtype('int64'),\n",
       " dtype('int64'),\n",
       " dtype('int64'),\n",
       " dtype('int64'),\n",
       " dtype('int64')]"
      ]
     },
     "execution_count": 40,
     "metadata": {},
     "output_type": "execute_result"
    }
   ],
   "source": [
    "original_df.dtypes.tolist()"
   ]
  },
  {
   "cell_type": "code",
   "execution_count": 41,
   "id": "a5112ae6-7cca-4026-afe2-eae0dac72f62",
   "metadata": {},
   "outputs": [],
   "source": [
    "# # Create a OneHotEncoder instance\n",
    "# enc = OneHotEncoder(sparse=False)\n",
    "\n",
    "# # Fit and transform the OneHotEncoder using the categorical variable list\n",
    "# encode_df = pd.DataFrame(enc.fit_transform(original_df[urls]))\n",
    "\n",
    "# # Add the encoded variable names to the DataFrame\n",
    "# encode_df.columns = enc.get_feature_names_out(urls)\n",
    "# encode_df.head()"
   ]
  },
  {
   "cell_type": "code",
   "execution_count": 42,
   "id": "2e50c63e-91c6-4114-9b07-e1f827b8777a",
   "metadata": {},
   "outputs": [],
   "source": [
    "# encode_df.shape"
   ]
  },
  {
   "cell_type": "code",
   "execution_count": 43,
   "id": "3db68ad5-d121-42db-a8a8-7bf75862f8a3",
   "metadata": {},
   "outputs": [],
   "source": [
    "# # Merge one-hot encoded features and drop the originals\n",
    "# original_df = original_df.merge(encode_df,left_index=True, right_index=True)\n",
    "# original_df = original_df.drop(urls,1)\n",
    "# original_df.head()\n",
    "\n",
    "# only reserved for categorical - not needed anymore "
   ]
  },
  {
   "cell_type": "code",
   "execution_count": 44,
   "id": "9e730c3d-3596-4e20-a4dc-39f5d17e81d8",
   "metadata": {},
   "outputs": [
    {
     "name": "stdout",
     "output_type": "stream",
     "text": [
      "<class 'pandas.core.frame.DataFrame'>\n",
      "RangeIndex: 11430 entries, 0 to 11429\n",
      "Data columns (total 88 columns):\n",
      " #   Column                      Non-Null Count  Dtype  \n",
      "---  ------                      --------------  -----  \n",
      " 0   length_url                  11430 non-null  int64  \n",
      " 1   length_hostname             11430 non-null  int64  \n",
      " 2   ip                          11430 non-null  int64  \n",
      " 3   nb_dots                     11430 non-null  int64  \n",
      " 4   nb_hyphens                  11430 non-null  int64  \n",
      " 5   nb_at                       11430 non-null  int64  \n",
      " 6   nb_qm                       11430 non-null  int64  \n",
      " 7   nb_and                      11430 non-null  int64  \n",
      " 8   nb_or                       11430 non-null  int64  \n",
      " 9   nb_eq                       11430 non-null  int64  \n",
      " 10  nb_underscore               11430 non-null  int64  \n",
      " 11  nb_tilde                    11430 non-null  int64  \n",
      " 12  nb_percent                  11430 non-null  int64  \n",
      " 13  nb_slash                    11430 non-null  int64  \n",
      " 14  nb_star                     11430 non-null  int64  \n",
      " 15  nb_colon                    11430 non-null  int64  \n",
      " 16  nb_comma                    11430 non-null  int64  \n",
      " 17  nb_semicolumn               11430 non-null  int64  \n",
      " 18  nb_dollar                   11430 non-null  int64  \n",
      " 19  nb_space                    11430 non-null  int64  \n",
      " 20  nb_www                      11430 non-null  int64  \n",
      " 21  nb_com                      11430 non-null  int64  \n",
      " 22  nb_dslash                   11430 non-null  int64  \n",
      " 23  http_in_path                11430 non-null  int64  \n",
      " 24  https_token                 11430 non-null  int64  \n",
      " 25  ratio_digits_url            11430 non-null  float64\n",
      " 26  ratio_digits_host           11430 non-null  float64\n",
      " 27  punycode                    11430 non-null  int64  \n",
      " 28  port                        11430 non-null  int64  \n",
      " 29  tld_in_path                 11430 non-null  int64  \n",
      " 30  tld_in_subdomain            11430 non-null  int64  \n",
      " 31  abnormal_subdomain          11430 non-null  int64  \n",
      " 32  nb_subdomains               11430 non-null  int64  \n",
      " 33  prefix_suffix               11430 non-null  int64  \n",
      " 34  random_domain               11430 non-null  int64  \n",
      " 35  shortening_service          11430 non-null  int64  \n",
      " 36  path_extension              11430 non-null  int64  \n",
      " 37  nb_redirection              11430 non-null  int64  \n",
      " 38  nb_external_redirection     11430 non-null  int64  \n",
      " 39  length_words_raw            11430 non-null  int64  \n",
      " 40  char_repeat                 11430 non-null  int64  \n",
      " 41  shortest_words_raw          11430 non-null  int64  \n",
      " 42  shortest_word_host          11430 non-null  int64  \n",
      " 43  shortest_word_path          11430 non-null  int64  \n",
      " 44  longest_words_raw           11430 non-null  int64  \n",
      " 45  longest_word_host           11430 non-null  int64  \n",
      " 46  longest_word_path           11430 non-null  int64  \n",
      " 47  avg_words_raw               11430 non-null  float64\n",
      " 48  avg_word_host               11430 non-null  float64\n",
      " 49  avg_word_path               11430 non-null  float64\n",
      " 50  phish_hints                 11430 non-null  int64  \n",
      " 51  domain_in_brand             11430 non-null  int64  \n",
      " 52  brand_in_subdomain          11430 non-null  int64  \n",
      " 53  brand_in_path               11430 non-null  int64  \n",
      " 54  suspecious_tld              11430 non-null  int64  \n",
      " 55  statistical_report          11430 non-null  int64  \n",
      " 56  nb_hyperlinks               11430 non-null  int64  \n",
      " 57  ratio_intHyperlinks         11430 non-null  float64\n",
      " 58  ratio_extHyperlinks         11430 non-null  float64\n",
      " 59  ratio_nullHyperlinks        11430 non-null  int64  \n",
      " 60  nb_extCSS                   11430 non-null  int64  \n",
      " 61  ratio_intRedirection        11430 non-null  int64  \n",
      " 62  ratio_extRedirection        11430 non-null  float64\n",
      " 63  ratio_intErrors             11430 non-null  int64  \n",
      " 64  ratio_extErrors             11430 non-null  float64\n",
      " 65  login_form                  11430 non-null  int64  \n",
      " 66  external_favicon            11430 non-null  int64  \n",
      " 67  links_in_tags               11430 non-null  float64\n",
      " 68  submit_email                11430 non-null  int64  \n",
      " 69  ratio_intMedia              11430 non-null  float64\n",
      " 70  ratio_extMedia              11430 non-null  float64\n",
      " 71  sfh                         11430 non-null  int64  \n",
      " 72  iframe                      11430 non-null  int64  \n",
      " 73  popup_window                11430 non-null  int64  \n",
      " 74  safe_anchor                 11430 non-null  float64\n",
      " 75  onmouseover                 11430 non-null  int64  \n",
      " 76  right_clic                  11430 non-null  int64  \n",
      " 77  empty_title                 11430 non-null  int64  \n",
      " 78  domain_in_title             11430 non-null  int64  \n",
      " 79  domain_with_copyright       11430 non-null  int64  \n",
      " 80  whois_registered_domain     11430 non-null  int64  \n",
      " 81  domain_registration_length  11430 non-null  int64  \n",
      " 82  domain_age                  11430 non-null  int64  \n",
      " 83  web_traffic                 11430 non-null  int64  \n",
      " 84  dns_record                  11430 non-null  int64  \n",
      " 85  google_index                11430 non-null  int64  \n",
      " 86  page_rank                   11430 non-null  int64  \n",
      " 87  status                      11430 non-null  int64  \n",
      "dtypes: float64(13), int64(75)\n",
      "memory usage: 7.7 MB\n"
     ]
    }
   ],
   "source": [
    "# check that all columns are numeric\n",
    "original_df.info()"
   ]
  },
  {
   "cell_type": "code",
   "execution_count": 45,
   "id": "aa4181b9-eb41-4ec5-ae58-5d0a0e0509a8",
   "metadata": {},
   "outputs": [
    {
     "data": {
      "text/plain": [
       "((11430, 87), (11430,))"
      ]
     },
     "execution_count": 45,
     "metadata": {},
     "output_type": "execute_result"
    }
   ],
   "source": [
    "# Separating & assigning features and target columns to X & y\n",
    "y = original_df['status']\n",
    "X = original_df.drop('status',axis=1)\n",
    "X.shape, y.shape"
   ]
  },
  {
   "cell_type": "code",
   "execution_count": 46,
   "id": "779f8aeb-8107-4adb-bf51-d1a7b53b903b",
   "metadata": {},
   "outputs": [
    {
     "data": {
      "text/plain": [
       "Index(['length_url', 'length_hostname', 'ip', 'nb_dots', 'nb_hyphens', 'nb_at',\n",
       "       'nb_qm', 'nb_and', 'nb_or', 'nb_eq', 'nb_underscore', 'nb_tilde',\n",
       "       'nb_percent', 'nb_slash', 'nb_star', 'nb_colon', 'nb_comma',\n",
       "       'nb_semicolumn', 'nb_dollar', 'nb_space', 'nb_www', 'nb_com',\n",
       "       'nb_dslash', 'http_in_path', 'https_token', 'ratio_digits_url',\n",
       "       'ratio_digits_host', 'punycode', 'port', 'tld_in_path',\n",
       "       'tld_in_subdomain', 'abnormal_subdomain', 'nb_subdomains',\n",
       "       'prefix_suffix', 'random_domain', 'shortening_service',\n",
       "       'path_extension', 'nb_redirection', 'nb_external_redirection',\n",
       "       'length_words_raw', 'char_repeat', 'shortest_words_raw',\n",
       "       'shortest_word_host', 'shortest_word_path', 'longest_words_raw',\n",
       "       'longest_word_host', 'longest_word_path', 'avg_words_raw',\n",
       "       'avg_word_host', 'avg_word_path', 'phish_hints', 'domain_in_brand',\n",
       "       'brand_in_subdomain', 'brand_in_path', 'suspecious_tld',\n",
       "       'statistical_report', 'nb_hyperlinks', 'ratio_intHyperlinks',\n",
       "       'ratio_extHyperlinks', 'ratio_nullHyperlinks', 'nb_extCSS',\n",
       "       'ratio_intRedirection', 'ratio_extRedirection', 'ratio_intErrors',\n",
       "       'ratio_extErrors', 'login_form', 'external_favicon', 'links_in_tags',\n",
       "       'submit_email', 'ratio_intMedia', 'ratio_extMedia', 'sfh', 'iframe',\n",
       "       'popup_window', 'safe_anchor', 'onmouseover', 'right_clic',\n",
       "       'empty_title', 'domain_in_title', 'domain_with_copyright',\n",
       "       'whois_registered_domain', 'domain_registration_length', 'domain_age',\n",
       "       'web_traffic', 'dns_record', 'google_index', 'page_rank'],\n",
       "      dtype='object')"
      ]
     },
     "execution_count": 46,
     "metadata": {},
     "output_type": "execute_result"
    }
   ],
   "source": [
    "columns = X.columns\n",
    "columns"
   ]
  },
  {
   "cell_type": "code",
   "execution_count": 47,
   "id": "92866d22-be3c-4674-8f6f-0ad3a3554569",
   "metadata": {},
   "outputs": [
    {
     "data": {
      "text/html": [
       "<div>\n",
       "<style scoped>\n",
       "    .dataframe tbody tr th:only-of-type {\n",
       "        vertical-align: middle;\n",
       "    }\n",
       "\n",
       "    .dataframe tbody tr th {\n",
       "        vertical-align: top;\n",
       "    }\n",
       "\n",
       "    .dataframe thead th {\n",
       "        text-align: right;\n",
       "    }\n",
       "</style>\n",
       "<table border=\"1\" class=\"dataframe\">\n",
       "  <thead>\n",
       "    <tr style=\"text-align: right;\">\n",
       "      <th></th>\n",
       "      <th>length_url</th>\n",
       "      <th>length_hostname</th>\n",
       "      <th>ip</th>\n",
       "      <th>nb_dots</th>\n",
       "      <th>nb_hyphens</th>\n",
       "      <th>nb_at</th>\n",
       "      <th>nb_qm</th>\n",
       "      <th>nb_and</th>\n",
       "      <th>nb_or</th>\n",
       "      <th>nb_eq</th>\n",
       "      <th>...</th>\n",
       "      <th>empty_title</th>\n",
       "      <th>domain_in_title</th>\n",
       "      <th>domain_with_copyright</th>\n",
       "      <th>whois_registered_domain</th>\n",
       "      <th>domain_registration_length</th>\n",
       "      <th>domain_age</th>\n",
       "      <th>web_traffic</th>\n",
       "      <th>dns_record</th>\n",
       "      <th>google_index</th>\n",
       "      <th>page_rank</th>\n",
       "    </tr>\n",
       "  </thead>\n",
       "  <tbody>\n",
       "    <tr>\n",
       "      <th>0</th>\n",
       "      <td>37</td>\n",
       "      <td>19</td>\n",
       "      <td>0</td>\n",
       "      <td>3</td>\n",
       "      <td>0</td>\n",
       "      <td>0</td>\n",
       "      <td>0</td>\n",
       "      <td>0</td>\n",
       "      <td>0</td>\n",
       "      <td>0</td>\n",
       "      <td>...</td>\n",
       "      <td>0</td>\n",
       "      <td>0</td>\n",
       "      <td>1</td>\n",
       "      <td>0</td>\n",
       "      <td>45</td>\n",
       "      <td>-1</td>\n",
       "      <td>0</td>\n",
       "      <td>1</td>\n",
       "      <td>1</td>\n",
       "      <td>4</td>\n",
       "    </tr>\n",
       "    <tr>\n",
       "      <th>1</th>\n",
       "      <td>77</td>\n",
       "      <td>23</td>\n",
       "      <td>1</td>\n",
       "      <td>1</td>\n",
       "      <td>0</td>\n",
       "      <td>0</td>\n",
       "      <td>0</td>\n",
       "      <td>0</td>\n",
       "      <td>0</td>\n",
       "      <td>0</td>\n",
       "      <td>...</td>\n",
       "      <td>0</td>\n",
       "      <td>1</td>\n",
       "      <td>0</td>\n",
       "      <td>0</td>\n",
       "      <td>77</td>\n",
       "      <td>5767</td>\n",
       "      <td>0</td>\n",
       "      <td>0</td>\n",
       "      <td>1</td>\n",
       "      <td>2</td>\n",
       "    </tr>\n",
       "    <tr>\n",
       "      <th>2</th>\n",
       "      <td>126</td>\n",
       "      <td>50</td>\n",
       "      <td>1</td>\n",
       "      <td>4</td>\n",
       "      <td>1</td>\n",
       "      <td>0</td>\n",
       "      <td>1</td>\n",
       "      <td>2</td>\n",
       "      <td>0</td>\n",
       "      <td>3</td>\n",
       "      <td>...</td>\n",
       "      <td>0</td>\n",
       "      <td>1</td>\n",
       "      <td>0</td>\n",
       "      <td>0</td>\n",
       "      <td>14</td>\n",
       "      <td>4004</td>\n",
       "      <td>5828815</td>\n",
       "      <td>0</td>\n",
       "      <td>1</td>\n",
       "      <td>0</td>\n",
       "    </tr>\n",
       "    <tr>\n",
       "      <th>3</th>\n",
       "      <td>18</td>\n",
       "      <td>11</td>\n",
       "      <td>0</td>\n",
       "      <td>2</td>\n",
       "      <td>0</td>\n",
       "      <td>0</td>\n",
       "      <td>0</td>\n",
       "      <td>0</td>\n",
       "      <td>0</td>\n",
       "      <td>0</td>\n",
       "      <td>...</td>\n",
       "      <td>0</td>\n",
       "      <td>1</td>\n",
       "      <td>0</td>\n",
       "      <td>0</td>\n",
       "      <td>62</td>\n",
       "      <td>-1</td>\n",
       "      <td>107721</td>\n",
       "      <td>0</td>\n",
       "      <td>0</td>\n",
       "      <td>3</td>\n",
       "    </tr>\n",
       "    <tr>\n",
       "      <th>4</th>\n",
       "      <td>55</td>\n",
       "      <td>15</td>\n",
       "      <td>0</td>\n",
       "      <td>2</td>\n",
       "      <td>2</td>\n",
       "      <td>0</td>\n",
       "      <td>0</td>\n",
       "      <td>0</td>\n",
       "      <td>0</td>\n",
       "      <td>0</td>\n",
       "      <td>...</td>\n",
       "      <td>0</td>\n",
       "      <td>0</td>\n",
       "      <td>1</td>\n",
       "      <td>0</td>\n",
       "      <td>224</td>\n",
       "      <td>8175</td>\n",
       "      <td>8725</td>\n",
       "      <td>0</td>\n",
       "      <td>0</td>\n",
       "      <td>6</td>\n",
       "    </tr>\n",
       "    <tr>\n",
       "      <th>...</th>\n",
       "      <td>...</td>\n",
       "      <td>...</td>\n",
       "      <td>...</td>\n",
       "      <td>...</td>\n",
       "      <td>...</td>\n",
       "      <td>...</td>\n",
       "      <td>...</td>\n",
       "      <td>...</td>\n",
       "      <td>...</td>\n",
       "      <td>...</td>\n",
       "      <td>...</td>\n",
       "      <td>...</td>\n",
       "      <td>...</td>\n",
       "      <td>...</td>\n",
       "      <td>...</td>\n",
       "      <td>...</td>\n",
       "      <td>...</td>\n",
       "      <td>...</td>\n",
       "      <td>...</td>\n",
       "      <td>...</td>\n",
       "      <td>...</td>\n",
       "    </tr>\n",
       "    <tr>\n",
       "      <th>11425</th>\n",
       "      <td>45</td>\n",
       "      <td>17</td>\n",
       "      <td>0</td>\n",
       "      <td>2</td>\n",
       "      <td>0</td>\n",
       "      <td>0</td>\n",
       "      <td>0</td>\n",
       "      <td>0</td>\n",
       "      <td>0</td>\n",
       "      <td>0</td>\n",
       "      <td>...</td>\n",
       "      <td>0</td>\n",
       "      <td>0</td>\n",
       "      <td>0</td>\n",
       "      <td>0</td>\n",
       "      <td>448</td>\n",
       "      <td>5396</td>\n",
       "      <td>3980</td>\n",
       "      <td>0</td>\n",
       "      <td>0</td>\n",
       "      <td>6</td>\n",
       "    </tr>\n",
       "    <tr>\n",
       "      <th>11426</th>\n",
       "      <td>84</td>\n",
       "      <td>18</td>\n",
       "      <td>0</td>\n",
       "      <td>5</td>\n",
       "      <td>0</td>\n",
       "      <td>1</td>\n",
       "      <td>1</td>\n",
       "      <td>0</td>\n",
       "      <td>0</td>\n",
       "      <td>1</td>\n",
       "      <td>...</td>\n",
       "      <td>0</td>\n",
       "      <td>1</td>\n",
       "      <td>0</td>\n",
       "      <td>0</td>\n",
       "      <td>211</td>\n",
       "      <td>6728</td>\n",
       "      <td>0</td>\n",
       "      <td>0</td>\n",
       "      <td>1</td>\n",
       "      <td>0</td>\n",
       "    </tr>\n",
       "    <tr>\n",
       "      <th>11427</th>\n",
       "      <td>105</td>\n",
       "      <td>16</td>\n",
       "      <td>1</td>\n",
       "      <td>2</td>\n",
       "      <td>6</td>\n",
       "      <td>0</td>\n",
       "      <td>1</td>\n",
       "      <td>0</td>\n",
       "      <td>0</td>\n",
       "      <td>1</td>\n",
       "      <td>...</td>\n",
       "      <td>0</td>\n",
       "      <td>0</td>\n",
       "      <td>0</td>\n",
       "      <td>0</td>\n",
       "      <td>2809</td>\n",
       "      <td>8515</td>\n",
       "      <td>8</td>\n",
       "      <td>0</td>\n",
       "      <td>1</td>\n",
       "      <td>10</td>\n",
       "    </tr>\n",
       "    <tr>\n",
       "      <th>11428</th>\n",
       "      <td>38</td>\n",
       "      <td>30</td>\n",
       "      <td>0</td>\n",
       "      <td>2</td>\n",
       "      <td>0</td>\n",
       "      <td>0</td>\n",
       "      <td>0</td>\n",
       "      <td>0</td>\n",
       "      <td>0</td>\n",
       "      <td>0</td>\n",
       "      <td>...</td>\n",
       "      <td>0</td>\n",
       "      <td>1</td>\n",
       "      <td>0</td>\n",
       "      <td>0</td>\n",
       "      <td>85</td>\n",
       "      <td>2836</td>\n",
       "      <td>2455493</td>\n",
       "      <td>0</td>\n",
       "      <td>0</td>\n",
       "      <td>4</td>\n",
       "    </tr>\n",
       "    <tr>\n",
       "      <th>11429</th>\n",
       "      <td>477</td>\n",
       "      <td>14</td>\n",
       "      <td>1</td>\n",
       "      <td>24</td>\n",
       "      <td>0</td>\n",
       "      <td>1</td>\n",
       "      <td>1</td>\n",
       "      <td>9</td>\n",
       "      <td>0</td>\n",
       "      <td>9</td>\n",
       "      <td>...</td>\n",
       "      <td>0</td>\n",
       "      <td>1</td>\n",
       "      <td>1</td>\n",
       "      <td>1</td>\n",
       "      <td>0</td>\n",
       "      <td>-1</td>\n",
       "      <td>0</td>\n",
       "      <td>1</td>\n",
       "      <td>1</td>\n",
       "      <td>0</td>\n",
       "    </tr>\n",
       "  </tbody>\n",
       "</table>\n",
       "<p>11430 rows × 87 columns</p>\n",
       "</div>"
      ],
      "text/plain": [
       "       length_url  length_hostname  ip  nb_dots  nb_hyphens  nb_at  nb_qm  \\\n",
       "0              37               19   0        3           0      0      0   \n",
       "1              77               23   1        1           0      0      0   \n",
       "2             126               50   1        4           1      0      1   \n",
       "3              18               11   0        2           0      0      0   \n",
       "4              55               15   0        2           2      0      0   \n",
       "...           ...              ...  ..      ...         ...    ...    ...   \n",
       "11425          45               17   0        2           0      0      0   \n",
       "11426          84               18   0        5           0      1      1   \n",
       "11427         105               16   1        2           6      0      1   \n",
       "11428          38               30   0        2           0      0      0   \n",
       "11429         477               14   1       24           0      1      1   \n",
       "\n",
       "       nb_and  nb_or  nb_eq  ...  empty_title  domain_in_title  \\\n",
       "0           0      0      0  ...            0                0   \n",
       "1           0      0      0  ...            0                1   \n",
       "2           2      0      3  ...            0                1   \n",
       "3           0      0      0  ...            0                1   \n",
       "4           0      0      0  ...            0                0   \n",
       "...       ...    ...    ...  ...          ...              ...   \n",
       "11425       0      0      0  ...            0                0   \n",
       "11426       0      0      1  ...            0                1   \n",
       "11427       0      0      1  ...            0                0   \n",
       "11428       0      0      0  ...            0                1   \n",
       "11429       9      0      9  ...            0                1   \n",
       "\n",
       "       domain_with_copyright  whois_registered_domain  \\\n",
       "0                          1                        0   \n",
       "1                          0                        0   \n",
       "2                          0                        0   \n",
       "3                          0                        0   \n",
       "4                          1                        0   \n",
       "...                      ...                      ...   \n",
       "11425                      0                        0   \n",
       "11426                      0                        0   \n",
       "11427                      0                        0   \n",
       "11428                      0                        0   \n",
       "11429                      1                        1   \n",
       "\n",
       "       domain_registration_length  domain_age  web_traffic  dns_record  \\\n",
       "0                              45          -1            0           1   \n",
       "1                              77        5767            0           0   \n",
       "2                              14        4004      5828815           0   \n",
       "3                              62          -1       107721           0   \n",
       "4                             224        8175         8725           0   \n",
       "...                           ...         ...          ...         ...   \n",
       "11425                         448        5396         3980           0   \n",
       "11426                         211        6728            0           0   \n",
       "11427                        2809        8515            8           0   \n",
       "11428                          85        2836      2455493           0   \n",
       "11429                           0          -1            0           1   \n",
       "\n",
       "       google_index  page_rank  \n",
       "0                 1          4  \n",
       "1                 1          2  \n",
       "2                 1          0  \n",
       "3                 0          3  \n",
       "4                 0          6  \n",
       "...             ...        ...  \n",
       "11425             0          6  \n",
       "11426             1          0  \n",
       "11427             1         10  \n",
       "11428             0          4  \n",
       "11429             1          0  \n",
       "\n",
       "[11430 rows x 87 columns]"
      ]
     },
     "execution_count": 47,
     "metadata": {},
     "output_type": "execute_result"
    }
   ],
   "source": [
    "X"
   ]
  },
  {
   "cell_type": "code",
   "execution_count": 48,
   "id": "144f0671-9b9f-4d92-883c-dfebd7a7e4f7",
   "metadata": {},
   "outputs": [
    {
     "data": {
      "text/plain": [
       "0        1\n",
       "1        0\n",
       "2        0\n",
       "3        1\n",
       "4        1\n",
       "        ..\n",
       "11425    1\n",
       "11426    0\n",
       "11427    1\n",
       "11428    1\n",
       "11429    0\n",
       "Name: status, Length: 11430, dtype: int64"
      ]
     },
     "execution_count": 48,
     "metadata": {},
     "output_type": "execute_result"
    }
   ],
   "source": [
    "y"
   ]
  },
  {
   "cell_type": "code",
   "execution_count": 49,
   "id": "496f0eed-9bd7-4881-b555-7f50aeb805ad",
   "metadata": {},
   "outputs": [],
   "source": [
    "\n",
    "## Shuffle the rows to prepare for splitting and training the test set\n",
    "\n",
    "# Shuffling the rows in the dataset so that when splitting the train and test set are equally distributed\n",
    "# original_df = original_df.sample(frac=1).reset_index(drop=True)\n",
    "# original_df.head(10)"
   ]
  },
  {
   "cell_type": "code",
   "execution_count": 104,
   "id": "b643903f-170b-43fa-8db8-aa808463c7da",
   "metadata": {},
   "outputs": [],
   "source": [
    "# Split training/test datasets\n",
    "X_train, X_test, y_train, y_test = train_test_split(X, y, random_state=35, stratify=y) # random_state was originally 42\n",
    "\n",
    "# Create a StandardScaler instance\n",
    "scaler = StandardScaler()\n",
    "\n",
    "# Fit the StandardScaler\n",
    "X_scaler = scaler.fit(X_train)\n",
    "\n",
    "# Scale the data\n",
    "X_train_scaled = X_scaler.transform(X_train)\n",
    "X_test_scaled = X_scaler.transform(X_test)"
   ]
  },
  {
   "cell_type": "code",
   "execution_count": 105,
   "id": "9c8d56ab-17c7-41a7-bf9d-278d2e7e418c",
   "metadata": {},
   "outputs": [
    {
     "data": {
      "text/plain": [
       "array([[ 0.09055685, -0.47220907, -0.42357599, ..., -0.14224373,\n",
       "        -1.07338093,  1.10924393],\n",
       "       [ 0.16134575, -0.47220907, -0.42357599, ..., -0.14224373,\n",
       "         0.9316357 ,  2.68623024],\n",
       "       [-0.65272655, -0.56354801, -0.42357599, ..., -0.14224373,\n",
       "        -1.07338093, -0.46774238],\n",
       "       ...,\n",
       "       [ 0.1259513 ,  1.9026032 ,  2.36085146, ..., -0.14224373,\n",
       "         0.9316357 , -1.25623554],\n",
       "       [-0.36957097, -0.19819227, -0.42357599, ..., -0.14224373,\n",
       "         0.9316357 , -1.25623554],\n",
       "       [ 0.37371243, -0.28953121, -0.42357599, ..., -0.14224373,\n",
       "        -1.07338093,  1.89773708]])"
      ]
     },
     "execution_count": 105,
     "metadata": {},
     "output_type": "execute_result"
    }
   ],
   "source": [
    "# examine the result of StandardScaler\n",
    "X_train_scaled"
   ]
  },
  {
   "cell_type": "code",
   "execution_count": 161,
   "id": "1f6ad293-6fd8-4553-b613-fedbdffe2a5e",
   "metadata": {},
   "outputs": [
    {
     "name": "stdout",
     "output_type": "stream",
     "text": [
      " Random forest predictive accuracy: 0.964\n"
     ]
    }
   ],
   "source": [
    "# Create a random forest classifier.\n",
    "rf_model = RandomForestClassifier(n_estimators=128, random_state=78)\n",
    "\n",
    "# max_depth, min_samples_split, max_features\n",
    "\n",
    "# Fitting the model\n",
    "rf_model = rf_model.fit(X_train_scaled, y_train)\n",
    "\n",
    "# Evaluate the model\n",
    "y_pred = rf_model.predict(X_test_scaled)\n",
    "print(f\" Random forest predictive accuracy: {accuracy_score(y_test,y_pred):.3f}\")"
   ]
  },
  {
   "cell_type": "code",
   "execution_count": 162,
   "id": "ff46d49c-eafe-4430-a428-de4399410614",
   "metadata": {},
   "outputs": [
    {
     "data": {
      "text/plain": [
       "array([[1378,   51],\n",
       "       [  52, 1377]], dtype=int64)"
      ]
     },
     "execution_count": 162,
     "metadata": {},
     "output_type": "execute_result"
    }
   ],
   "source": [
    "# Confusion Matrix\n",
    "cm = confusion_matrix(y_test, y_pred)\n",
    "cm"
   ]
  },
  {
   "cell_type": "code",
   "execution_count": 176,
   "id": "d56b8df4-c789-4c6e-bcad-28169a14336f",
   "metadata": {},
   "outputs": [
    {
     "data": {
      "image/png": "[encoded data removed]",
      "text/plain": [
       "<Figure size 432x288 with 2 Axes>"
      ]
     },
     "metadata": {
      "needs_background": "light"
     },
     "output_type": "display_data"
    }
   ],
   "source": [
    "# Display confusion matrix\n",
    "display = ConfusionMatrixDisplay(confusion_matrix=cm, display_labels=rf_model.classes_)\n",
    "display.plot()\n",
    "plt.savefig(\"archive/rfmodel_confusion_matrix_new.png\")\n",
    "plt.show()"
   ]
  },
  {
   "cell_type": "markdown",
   "id": "6600c920-68f7-4db7-808c-a031b06a19a2",
   "metadata": {},
   "source": [
    "### Confusion Matrix Analysis:"
   ]
  },
  {
   "cell_type": "markdown",
   "id": "3988cdb8-0be6-435e-93c4-ee119e332d78",
   "metadata": {},
   "source": [
    "The real risk (downside) is when a legitimate url is labeled as phishing. That is the top right quadrant of the image above. This means it has created a false positive."
   ]
  },
  {
   "cell_type": "markdown",
   "id": "e1c72c3f-b5f3-440c-86c0-1c49733a7a93",
   "metadata": {},
   "source": [
    "There is also opportunity loss when a phishing url is labeled as legitimate. That is the bottom left quadrant of the image above. This means it has created a false negative."
   ]
  },
  {
   "cell_type": "markdown",
   "id": "a1a8d900-e199-4535-ad7e-fb31c37309c8",
   "metadata": {},
   "source": [
    "Top left quadrant (or the True Positive) are urls are that actually legitimate. Bottom right quadrant (or the True Negative) are urls that actually phishing."
   ]
  },
  {
   "cell_type": "code",
   "execution_count": 164,
   "id": "b7ec9390-8c2c-45b6-a3de-fa4acc0674f3",
   "metadata": {},
   "outputs": [],
   "source": [
    "# Our model predicted X% false positives and Y% false positive"
   ]
  },
  {
   "cell_type": "code",
   "execution_count": 165,
   "id": "d0b3551d-b8ea-4be2-8ea5-c06c7e1f0cf0",
   "metadata": {},
   "outputs": [
    {
     "name": "stdout",
     "output_type": "stream",
     "text": [
      "              precision    recall  f1-score   support\n",
      "\n",
      "           0       0.96      0.96      0.96      1429\n",
      "           1       0.96      0.96      0.96      1429\n",
      "\n",
      "    accuracy                           0.96      2858\n",
      "   macro avg       0.96      0.96      0.96      2858\n",
      "weighted avg       0.96      0.96      0.96      2858\n",
      "\n"
     ]
    }
   ],
   "source": [
    "# print a classification report\n",
    "print(classification_report(y_test, y_pred))"
   ]
  },
  {
   "cell_type": "code",
   "execution_count": 166,
   "id": "e0a51801-8043-4ae0-8aad-e446bccb1da6",
   "metadata": {},
   "outputs": [
    {
     "name": "stdout",
     "output_type": "stream",
     "text": [
      "Model: \"sequential_11\"\n",
      "_________________________________________________________________\n",
      "Layer (type)                 Output Shape              Param #   \n",
      "=================================================================\n",
      "dense_39 (Dense)             (None, 261)               22968     \n",
      "_________________________________________________________________\n",
      "dense_40 (Dense)             (None, 87)                22794     \n",
      "_________________________________________________________________\n",
      "dense_41 (Dense)             (None, 43)                3784      \n",
      "_________________________________________________________________\n",
      "dense_42 (Dense)             (None, 1)                 44        \n",
      "=================================================================\n",
      "Total params: 49,590\n",
      "Trainable params: 49,590\n",
      "Non-trainable params: 0\n",
      "_________________________________________________________________\n"
     ]
    }
   ],
   "source": [
    "# Define the model - deep neural net, i.e., the number of input features and hidden nodes for each layer.\n",
    "# this is done using the classes within the Keras module\n",
    "number_input_features = X_train.shape[1]\n",
    "hidden_nodes_layer1 = (number_input_features * 3)\n",
    "hidden_nodes_layer2 = (number_input_features * 1)\n",
    "hidden_nodes_layer3 = (number_input_features * 0.50)\n",
    "\n",
    "nn = tf.keras.models.Sequential()\n",
    "\n",
    "# First hidden layer\n",
    "nn.add(\n",
    "    tf.keras.layers.Dense(\n",
    "        units=hidden_nodes_layer1, \n",
    "        input_dim=number_input_features, \n",
    "        activation=\"sigmoid\")\n",
    ")\n",
    "\n",
    "# Second hidden layer\n",
    "nn.add(tf.keras.layers.Dense(\n",
    "    units=hidden_nodes_layer2, \n",
    "    activation=\"sigmoid\")\n",
    ")\n",
    "\n",
    "# third hidden layer\n",
    "nn.add(tf.keras.layers.Dense(\n",
    "    units=hidden_nodes_layer3,\n",
    "    activation=\"sigmoid\"\n",
    "))\n",
    "\n",
    "# Output layer\n",
    "nn.add(tf.keras.layers.Dense(\n",
    "    units=1, \n",
    "    activation=\"sigmoid\"\n",
    "))\n",
    "\n",
    "# Check the structure of the model\n",
    "nn.summary()"
   ]
  },
  {
   "cell_type": "code",
   "execution_count": 167,
   "id": "e5261ae8-45cb-44d0-9d4a-5f45ac8ffb71",
   "metadata": {},
   "outputs": [],
   "source": [
    "# Chompile the model\n",
    "nn.compile(loss=\"binary_crossentropy\", optimizer=\"adam\", metrics=[\"accuracy\"])"
   ]
  },
  {
   "cell_type": "code",
   "execution_count": 168,
   "id": "685fcc98-37cf-441d-9487-c9d3428fdfd7",
   "metadata": {},
   "outputs": [
    {
     "name": "stdout",
     "output_type": "stream",
     "text": [
      "Train on 8572 samples\n",
      "Epoch 1/50\n",
      "8572/8572 [==============================] - 1s 155us/sample - loss: 0.3447 - accuracy: 0.8529\n",
      "Epoch 2/50\n",
      "8572/8572 [==============================] - 1s 106us/sample - loss: 0.1631 - accuracy: 0.9410\n",
      "Epoch 3/50\n",
      "8572/8572 [==============================] - 1s 107us/sample - loss: 0.1540 - accuracy: 0.9459\n",
      "Epoch 4/50\n",
      "8572/8572 [==============================] - 1s 93us/sample - loss: 0.1490 - accuracy: 0.9472\n",
      "Epoch 5/50\n",
      "8572/8572 [==============================] - 1s 110us/sample - loss: 0.1459 - accuracy: 0.9475\n",
      "Epoch 6/50\n",
      "8572/8572 [==============================] - 1s 111us/sample - loss: 0.1427 - accuracy: 0.9488\n",
      "Epoch 7/50\n",
      "8572/8572 [==============================] - 1s 108us/sample - loss: 0.1399 - accuracy: 0.9486\n",
      "Epoch 8/50\n",
      "8572/8572 [==============================] - 1s 117us/sample - loss: 0.1371 - accuracy: 0.9498\n",
      "Epoch 9/50\n",
      "8572/8572 [==============================] - 1s 110us/sample - loss: 0.1353 - accuracy: 0.9500\n",
      "Epoch 10/50\n",
      "8572/8572 [==============================] - 1s 94us/sample - loss: 0.1320 - accuracy: 0.9514\n",
      "Epoch 11/50\n",
      "8572/8572 [==============================] - 1s 101us/sample - loss: 0.1287 - accuracy: 0.9517\n",
      "Epoch 12/50\n",
      "8572/8572 [==============================] - 1s 104us/sample - loss: 0.1283 - accuracy: 0.9526\n",
      "Epoch 13/50\n",
      "8572/8572 [==============================] - 1s 111us/sample - loss: 0.1249 - accuracy: 0.9550\n",
      "Epoch 14/50\n",
      "8572/8572 [==============================] - 1s 103us/sample - loss: 0.1222 - accuracy: 0.9543\n",
      "Epoch 15/50\n",
      "8572/8572 [==============================] - 1s 94us/sample - loss: 0.1196 - accuracy: 0.9544\n",
      "Epoch 16/50\n",
      "8572/8572 [==============================] - 1s 120us/sample - loss: 0.1145 - accuracy: 0.9573\n",
      "Epoch 17/50\n",
      "8572/8572 [==============================] - 1s 115us/sample - loss: 0.1108 - accuracy: 0.9593\n",
      "Epoch 18/50\n",
      "8572/8572 [==============================] - 1s 114us/sample - loss: 0.1088 - accuracy: 0.9609\n",
      "Epoch 19/50\n",
      "8572/8572 [==============================] - 1s 112us/sample - loss: 0.1033 - accuracy: 0.9627\n",
      "Epoch 20/50\n",
      "8572/8572 [==============================] - 1s 111us/sample - loss: 0.0988 - accuracy: 0.9644\n",
      "Epoch 21/50\n",
      "8572/8572 [==============================] - 1s 71us/sample - loss: 0.0946 - accuracy: 0.9661\n",
      "Epoch 22/50\n",
      "8572/8572 [==============================] - 1s 112us/sample - loss: 0.0894 - accuracy: 0.9687\n",
      "Epoch 23/50\n",
      "8572/8572 [==============================] - 1s 109us/sample - loss: 0.0874 - accuracy: 0.9693\n",
      "Epoch 24/50\n",
      "8572/8572 [==============================] - 1s 112us/sample - loss: 0.0828 - accuracy: 0.9697\n",
      "Epoch 25/50\n",
      "8572/8572 [==============================] - 1s 112us/sample - loss: 0.0812 - accuracy: 0.9711\n",
      "Epoch 26/50\n",
      "8572/8572 [==============================] - 1s 106us/sample - loss: 0.0775 - accuracy: 0.9732\n",
      "Epoch 27/50\n",
      "8572/8572 [==============================] - 1s 111us/sample - loss: 0.0726 - accuracy: 0.9718\n",
      "Epoch 28/50\n",
      "8572/8572 [==============================] - 1s 111us/sample - loss: 0.0706 - accuracy: 0.9735\n",
      "Epoch 29/50\n",
      "8572/8572 [==============================] - 1s 111us/sample - loss: 0.0668 - accuracy: 0.9753\n",
      "Epoch 30/50\n",
      "8572/8572 [==============================] - 1s 107us/sample - loss: 0.0644 - accuracy: 0.9773\n",
      "Epoch 31/50\n",
      "8572/8572 [==============================] - 1s 107us/sample - loss: 0.0627 - accuracy: 0.9781\n",
      "Epoch 32/50\n",
      "8572/8572 [==============================] - 1s 111us/sample - loss: 0.0583 - accuracy: 0.9781\n",
      "Epoch 33/50\n",
      "8572/8572 [==============================] - 1s 113us/sample - loss: 0.0585 - accuracy: 0.9785\n",
      "Epoch 34/50\n",
      "8572/8572 [==============================] - 1s 108us/sample - loss: 0.0542 - accuracy: 0.9809\n",
      "Epoch 35/50\n",
      "8572/8572 [==============================] - 1s 114us/sample - loss: 0.0505 - accuracy: 0.9819\n",
      "Epoch 36/50\n",
      "8572/8572 [==============================] - 1s 111us/sample - loss: 0.0472 - accuracy: 0.9832\n",
      "Epoch 37/50\n",
      "8572/8572 [==============================] - 1s 98us/sample - loss: 0.0482 - accuracy: 0.9824\n",
      "Epoch 38/50\n",
      "8572/8572 [==============================] - 1s 82us/sample - loss: 0.0438 - accuracy: 0.9847s - loss: 0\n",
      "Epoch 39/50\n",
      "8572/8572 [==============================] - 1s 116us/sample - loss: 0.0418 - accuracy: 0.9852\n",
      "Epoch 40/50\n",
      "8572/8572 [==============================] - 1s 115us/sample - loss: 0.0399 - accuracy: 0.9858\n",
      "Epoch 41/50\n",
      "8572/8572 [==============================] - 1s 107us/sample - loss: 0.0390 - accuracy: 0.9862\n",
      "Epoch 42/50\n",
      "8572/8572 [==============================] - 1s 111us/sample - loss: 0.0356 - accuracy: 0.9874\n",
      "Epoch 43/50\n",
      "8572/8572 [==============================] - 1s 116us/sample - loss: 0.0335 - accuracy: 0.9883\n",
      "Epoch 44/50\n",
      "8572/8572 [==============================] - 1s 100us/sample - loss: 0.0330 - accuracy: 0.9883\n",
      "Epoch 45/50\n",
      "8572/8572 [==============================] - 1s 91us/sample - loss: 0.0314 - accuracy: 0.9888\n",
      "Epoch 46/50\n",
      "8572/8572 [==============================] - 1s 87us/sample - loss: 0.0275 - accuracy: 0.9908\n",
      "Epoch 47/50\n",
      "8572/8572 [==============================] - 1s 98us/sample - loss: 0.0275 - accuracy: 0.9907\n",
      "Epoch 48/50\n",
      "8572/8572 [==============================] - 1s 111us/sample - loss: 0.0301 - accuracy: 0.9899\n",
      "Epoch 49/50\n",
      "8572/8572 [==============================] - 1s 114us/sample - loss: 0.0222 - accuracy: 0.9936\n",
      "Epoch 50/50\n",
      "8572/8572 [==============================] - 1s 111us/sample - loss: 0.0227 - accuracy: 0.9927\n"
     ]
    }
   ],
   "source": [
    "# Train the model\n",
    "fit_model = nn.fit(X_train_scaled,y_train,epochs=50)"
   ]
  },
  {
   "cell_type": "code",
   "execution_count": 169,
   "id": "64e4b892-bdfb-4441-a989-9a2a288844d7",
   "metadata": {},
   "outputs": [
    {
     "name": "stdout",
     "output_type": "stream",
     "text": [
      "2858/2858 - 0s - loss: 0.1964 - accuracy: 0.9528\n",
      "Loss: 0.19639338032993245, Accuracy: 0.9527641534805298\n"
     ]
    }
   ],
   "source": [
    "# Evaluate the model using the test data\n",
    "model_loss, model_accuracy = nn.evaluate(X_test_scaled,y_test,verbose=2)\n",
    "print(f\"Loss: {model_loss}, Accuracy: {model_accuracy}\")"
   ]
  },
  {
   "cell_type": "code",
   "execution_count": 170,
   "id": "9dd08a9f-3a00-4bd5-b926-86a3fba39925",
   "metadata": {},
   "outputs": [
    {
     "data": {
      "text/plain": [
       "<AxesSubplot:>"
      ]
     },
     "execution_count": 170,
     "metadata": {},
     "output_type": "execute_result"
    },
    {
     "data": {
      "image/png": "[encoded data removed]",
      "text/plain": [
       "<Figure size 432x288 with 1 Axes>"
      ]
     },
     "metadata": {
      "needs_background": "light"
     },
     "output_type": "display_data"
    }
   ],
   "source": [
    "# Create a DataFrame containing training history\n",
    "history_df = pd.DataFrame(fit_model.history, index=range(1,len(fit_model.history[\"loss\"])+1))\n",
    "\n",
    "# Plot the loss\n",
    "history_df.plot(y=\"loss\")"
   ]
  },
  {
   "cell_type": "code",
   "execution_count": 171,
   "id": "8a2595b2-f817-4af8-a0ab-a317d635b229",
   "metadata": {},
   "outputs": [
    {
     "data": {
      "text/plain": [
       "<AxesSubplot:>"
      ]
     },
     "execution_count": 171,
     "metadata": {},
     "output_type": "execute_result"
    },
    {
     "data": {
      "image/png": "[encoded data removed]",
      "text/plain": [
       "<Figure size 432x288 with 1 Axes>"
      ]
     },
     "metadata": {
      "needs_background": "light"
     },
     "output_type": "display_data"
    }
   ],
   "source": [
    "# Plot the accuracy\n",
    "history_df.plot(y=\"accuracy\")"
   ]
  },
  {
   "cell_type": "markdown",
   "id": "c7bce0b1-7a28-451d-bdf2-03fd8e7af947",
   "metadata": {},
   "source": [
    "## Model Assessment:"
   ]
  },
  {
   "cell_type": "markdown",
   "id": "4ac5824d-f8f0-4b11-b32e-f85fca28df1e",
   "metadata": {},
   "source": [
    "According to the accuracy metric of the neural network model was only able to correctly classify about 95.4%\n",
    "\n",
    "Loss: 0.19639338032993245, Accuracy: 0.9527641534805298"
   ]
  },
  {
   "cell_type": "markdown",
   "id": "f0d88e23-2088-4a32-8d1f-1d896fc244e3",
   "metadata": {},
   "source": [
    "## Use a Different Activation Function"
   ]
  },
  {
   "cell_type": "markdown",
   "id": "abe20115-a1b2-4fbe-91b2-8955604ade25",
   "metadata": {},
   "source": [
    "It is important to use an activation function that matches the complexity of the input data. If we wanted to rank the four most-used activation functions by data complexity and ideal use case, the order would be as follows:\n",
    "\n",
    "- The sigmoid function values are normalized to a probability between 0 and 1, which is ideal for binary classification (like our output classification)\n",
    "- The tanh function can be used for classification or regression, and it expands the range between -1 and 1.\n",
    "- The ReLU function is ideal for looking at positive nonlinear input data for classification or regression.\n",
    "- The Leaky ReLU function is a good alternative for nonlinear input data with many negative inputs."
   ]
  },
  {
   "cell_type": "code",
   "execution_count": 172,
   "id": "4f36a210-fac9-442c-9119-99349b9e6916",
   "metadata": {},
   "outputs": [
    {
     "name": "stdout",
     "output_type": "stream",
     "text": [
      "Model: \"sequential_12\"\n",
      "_________________________________________________________________\n",
      "Layer (type)                 Output Shape              Param #   \n",
      "=================================================================\n",
      "dense_43 (Dense)             (None, 50)                4400      \n",
      "_________________________________________________________________\n",
      "dense_44 (Dense)             (None, 25)                1275      \n",
      "_________________________________________________________________\n",
      "dense_45 (Dense)             (None, 30)                780       \n",
      "_________________________________________________________________\n",
      "dense_46 (Dense)             (None, 1)                 31        \n",
      "=================================================================\n",
      "Total params: 6,486\n",
      "Trainable params: 6,486\n",
      "Non-trainable params: 0\n",
      "_________________________________________________________________\n"
     ]
    }
   ],
   "source": [
    "# Define the model - deep neural net, i.e., the number of input features and hidden nodes for each layer.\n",
    "# this is done using the classes within the Keras module\n",
    "number_input_features = X_train.shape[1]\n",
    "hidden_nodes_layer1 =  50\n",
    "hidden_nodes_layer2 = 25\n",
    "hidden_nodes_layer3 = 30\n",
    "\n",
    "nn_new = tf.keras.models.Sequential()\n",
    "\n",
    "# First hidden layer\n",
    "nn_new.add(\n",
    "    tf.keras.layers.Dense(\n",
    "        units=hidden_nodes_layer1, \n",
    "        input_dim=number_input_features, \n",
    "        activation=\"sigmoid\")\n",
    ")\n",
    "\n",
    "# Second hidden layer\n",
    "nn_new.add(tf.keras.layers.Dense(\n",
    "    units=hidden_nodes_layer2, \n",
    "    activation=\"sigmoid\")\n",
    ")\n",
    "\n",
    "# third hidden layer\n",
    "nn_new.add(tf.keras.layers.Dense(\n",
    "    units=hidden_nodes_layer3,\n",
    "    activation=\"sigmoid\"\n",
    "))\n",
    "\n",
    "# Output layer\n",
    "nn_new.add(tf.keras.layers.Dense(\n",
    "    units=1, \n",
    "    activation=\"sigmoid\"\n",
    "))\n",
    "\n",
    "# Check the structure of the model\n",
    "nn_new.summary()"
   ]
  },
  {
   "cell_type": "code",
   "execution_count": 173,
   "id": "efaad397-e692-4d48-aef6-c0cbc5cf397e",
   "metadata": {},
   "outputs": [
    {
     "name": "stdout",
     "output_type": "stream",
     "text": [
      "Train on 8572 samples\n",
      "Epoch 1/50\n",
      "8572/8572 [==============================] - 1s 141us/sample - loss: 0.3984 - accuracy: 0.8546\n",
      "Epoch 2/50\n",
      "8572/8572 [==============================] - 1s 98us/sample - loss: 0.1651 - accuracy: 0.9406\n",
      "Epoch 3/50\n",
      "8572/8572 [==============================] - 1s 83us/sample - loss: 0.1504 - accuracy: 0.9452\n",
      "Epoch 4/50\n",
      "8572/8572 [==============================] - 1s 95us/sample - loss: 0.1468 - accuracy: 0.9490\n",
      "Epoch 5/50\n",
      "8572/8572 [==============================] - 1s 66us/sample - loss: 0.1424 - accuracy: 0.9494\n",
      "Epoch 6/50\n",
      "8572/8572 [==============================] - 1s 90us/sample - loss: 0.1415 - accuracy: 0.9486\n",
      "Epoch 7/50\n",
      "8572/8572 [==============================] - 1s 98us/sample - loss: 0.1383 - accuracy: 0.9504\n",
      "Epoch 8/50\n",
      "8572/8572 [==============================] - 1s 91us/sample - loss: 0.1368 - accuracy: 0.9514\n",
      "Epoch 9/50\n",
      "8572/8572 [==============================] - 1s 102us/sample - loss: 0.1339 - accuracy: 0.9521\n",
      "Epoch 10/50\n",
      "8572/8572 [==============================] - 1s 71us/sample - loss: 0.1326 - accuracy: 0.9505\n",
      "Epoch 11/50\n",
      "8572/8572 [==============================] - 1s 100us/sample - loss: 0.1295 - accuracy: 0.9533\n",
      "Epoch 12/50\n",
      "8572/8572 [==============================] - 1s 99us/sample - loss: 0.1268 - accuracy: 0.9544\n",
      "Epoch 13/50\n",
      "8572/8572 [==============================] - 1s 96us/sample - loss: 0.1239 - accuracy: 0.9567\n",
      "Epoch 14/50\n",
      "8572/8572 [==============================] - 1s 99us/sample - loss: 0.1210 - accuracy: 0.9567\n",
      "Epoch 15/50\n",
      "8572/8572 [==============================] - 1s 93us/sample - loss: 0.1185 - accuracy: 0.9571\n",
      "Epoch 16/50\n",
      "8572/8572 [==============================] - 1s 97us/sample - loss: 0.1157 - accuracy: 0.9598\n",
      "Epoch 17/50\n",
      "8572/8572 [==============================] - 1s 85us/sample - loss: 0.1129 - accuracy: 0.9605\n",
      "Epoch 18/50\n",
      "8572/8572 [==============================] - 1s 61us/sample - loss: 0.1094 - accuracy: 0.9621\n",
      "Epoch 19/50\n",
      "8572/8572 [==============================] - 1s 103us/sample - loss: 0.1066 - accuracy: 0.9637\n",
      "Epoch 20/50\n",
      "8572/8572 [==============================] - 1s 96us/sample - loss: 0.1024 - accuracy: 0.9643\n",
      "Epoch 21/50\n",
      "8572/8572 [==============================] - 1s 96us/sample - loss: 0.0998 - accuracy: 0.9669\n",
      "Epoch 22/50\n",
      "8572/8572 [==============================] - 1s 96us/sample - loss: 0.0967 - accuracy: 0.9679\n",
      "Epoch 23/50\n",
      "8572/8572 [==============================] - 1s 95us/sample - loss: 0.0933 - accuracy: 0.9692\n",
      "Epoch 24/50\n",
      "8572/8572 [==============================] - 1s 94us/sample - loss: 0.0910 - accuracy: 0.9700\n",
      "Epoch 25/50\n",
      "8572/8572 [==============================] - 1s 87us/sample - loss: 0.0884 - accuracy: 0.9710\n",
      "Epoch 26/50\n",
      "8572/8572 [==============================] - 1s 94us/sample - loss: 0.0839 - accuracy: 0.9725\n",
      "Epoch 27/50\n",
      "8572/8572 [==============================] - 1s 102us/sample - loss: 0.0826 - accuracy: 0.9738\n",
      "Epoch 28/50\n",
      "8572/8572 [==============================] - 1s 94us/sample - loss: 0.0799 - accuracy: 0.9735\n",
      "Epoch 29/50\n",
      "8572/8572 [==============================] - 1s 99us/sample - loss: 0.0764 - accuracy: 0.9742\n",
      "Epoch 30/50\n",
      "8572/8572 [==============================] - 1s 96us/sample - loss: 0.0730 - accuracy: 0.9757\n",
      "Epoch 31/50\n",
      "8572/8572 [==============================] - 1s 96us/sample - loss: 0.0713 - accuracy: 0.9769\n",
      "Epoch 32/50\n",
      "8572/8572 [==============================] - 1s 94us/sample - loss: 0.0672 - accuracy: 0.9796\n",
      "Epoch 33/50\n",
      "8572/8572 [==============================] - 1s 95us/sample - loss: 0.0660 - accuracy: 0.9792\n",
      "Epoch 34/50\n",
      "8572/8572 [==============================] - 1s 96us/sample - loss: 0.0637 - accuracy: 0.9796\n",
      "Epoch 35/50\n",
      "8572/8572 [==============================] - 1s 89us/sample - loss: 0.0601 - accuracy: 0.9817\n",
      "Epoch 36/50\n",
      "8572/8572 [==============================] - 1s 86us/sample - loss: 0.0598 - accuracy: 0.9799\n",
      "Epoch 37/50\n",
      "8572/8572 [==============================] - 1s 99us/sample - loss: 0.0551 - accuracy: 0.9833\n",
      "Epoch 38/50\n",
      "8572/8572 [==============================] - 1s 98us/sample - loss: 0.0538 - accuracy: 0.9826\n",
      "Epoch 39/50\n",
      "8572/8572 [==============================] - 1s 101us/sample - loss: 0.0509 - accuracy: 0.9837\n",
      "Epoch 40/50\n",
      "8572/8572 [==============================] - 1s 101us/sample - loss: 0.0497 - accuracy: 0.9848\n",
      "Epoch 41/50\n",
      "8572/8572 [==============================] - 1s 94us/sample - loss: 0.0464 - accuracy: 0.9857\n",
      "Epoch 42/50\n",
      "8572/8572 [==============================] - 1s 92us/sample - loss: 0.0442 - accuracy: 0.9860\n",
      "Epoch 43/50\n",
      "8572/8572 [==============================] - 1s 96us/sample - loss: 0.0437 - accuracy: 0.9860\n",
      "Epoch 44/50\n",
      "8572/8572 [==============================] - 1s 99us/sample - loss: 0.0402 - accuracy: 0.9881\n",
      "Epoch 45/50\n",
      "8572/8572 [==============================] - 1s 96us/sample - loss: 0.0391 - accuracy: 0.9883\n",
      "Epoch 46/50\n",
      "8572/8572 [==============================] - 1s 100us/sample - loss: 0.0374 - accuracy: 0.9901\n",
      "Epoch 47/50\n",
      "8572/8572 [==============================] - 1s 96us/sample - loss: 0.0362 - accuracy: 0.9902\n",
      "Epoch 48/50\n",
      "8572/8572 [==============================] - 1s 95us/sample - loss: 0.0366 - accuracy: 0.9890\n",
      "Epoch 49/50\n",
      "8572/8572 [==============================] - 1s 101us/sample - loss: 0.0335 - accuracy: 0.9907\n",
      "Epoch 50/50\n",
      "8572/8572 [==============================] - 1s 93us/sample - loss: 0.0331 - accuracy: 0.9911\n",
      "2858/2858 - 0s - loss: 0.1536 - accuracy: 0.9570\n",
      "Loss: 0.15357043353177247, Accuracy: 0.9569628834724426\n"
     ]
    }
   ],
   "source": [
    "# Compile the Sequential model together and customize metrics\n",
    "nn_new.compile(loss=\"binary_crossentropy\", optimizer=\"adam\", metrics=[\"accuracy\"])\n",
    "\n",
    "# Train the model\n",
    "fit_model_new = nn_new.fit(X_train_scaled, y_train, epochs=50)\n",
    "\n",
    "# Evaluate the model using the test data\n",
    "model_loss, model_accuracy = nn_new.evaluate(X_test_scaled,y_test,verbose=2)\n",
    "print(f\"Loss: {model_loss}, Accuracy: {model_accuracy}\")"
   ]
  },
  {
   "cell_type": "code",
   "execution_count": 174,
   "id": "e3eeccdc-01a5-466b-8cf6-3004408bd31c",
   "metadata": {},
   "outputs": [
    {
     "data": {
      "text/plain": [
       "<AxesSubplot:>"
      ]
     },
     "execution_count": 174,
     "metadata": {},
     "output_type": "execute_result"
    },
    {
     "data": {
      "image/png": "[encoded data removed]",
      "text/plain": [
       "<Figure size 432x288 with 1 Axes>"
      ]
     },
     "metadata": {
      "needs_background": "light"
     },
     "output_type": "display_data"
    }
   ],
   "source": [
    "# Create a DataFrame containing training history\n",
    "history_new_df = pd.DataFrame(fit_model_new.history, index=range(1,len(fit_model_new.history[\"loss\"])+1))\n",
    "\n",
    "# Plot the loss\n",
    "history_new_df.plot(y=\"loss\")"
   ]
  },
  {
   "cell_type": "code",
   "execution_count": 175,
   "id": "8e65e97a-3727-4320-afce-5f98de3ff3c1",
   "metadata": {},
   "outputs": [
    {
     "data": {
      "text/plain": [
       "<AxesSubplot:>"
      ]
     },
     "execution_count": 175,
     "metadata": {},
     "output_type": "execute_result"
    },
    {
     "data": {
      "image/png": "[encoded data removed]",
      "text/plain": [
       "<Figure size 432x288 with 1 Axes>"
      ]
     },
     "metadata": {
      "needs_background": "light"
     },
     "output_type": "display_data"
    }
   ],
   "source": [
    "# Plot the accuracy\n",
    "history_new_df.plot(y=\"accuracy\")"
   ]
  },
  {
   "cell_type": "markdown",
   "id": "04e060af-5b75-4347-b1ff-2baf705f92ea",
   "metadata": {},
   "source": [
    "## Model Assessment:"
   ]
  },
  {
   "cell_type": "markdown",
   "id": "a9cc757e-1f0a-461f-95e4-36895d2b61be",
   "metadata": {},
   "source": [
    "According to the accuracy metric of the neural network model was only able to correctly classify about 95.56% (slight improvement)\n",
    "\n",
    "Loss: 0.15357043353177247, Accuracy: 0.9569628834724426"
   ]
  },
  {
   "cell_type": "code",
   "execution_count": null,
   "id": "9d54ffe3-0f8c-4a96-83ec-7b57ec91f2f9",
   "metadata": {},
   "outputs": [],
   "source": []
  },
  {
   "cell_type": "code",
   "execution_count": null,
   "id": "cf9c129b-fd8b-4272-8b8b-f17f32999d0d",
   "metadata": {},
   "outputs": [],
   "source": []
  }
 ],
 "metadata": {
  "kernelspec": {
   "display_name": "mlenv",
   "language": "python",
   "name": "mlenv"
  },
  "language_info": {
   "codemirror_mode": {
    "name": "ipython",
    "version": 3
   },
   "file_extension": ".py",
   "mimetype": "text/x-python",
   "name": "python",
   "nbconvert_exporter": "python",
   "pygments_lexer": "ipython3",
   "version": "3.7.13"
  }
 },
 "nbformat": 4,
 "nbformat_minor": 5
}
